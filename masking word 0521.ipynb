{
 "cells": [
  {
   "cell_type": "markdown",
   "id": "d4721d0c",
   "metadata": {},
   "source": [
    "# Masked word completion with BERT"
   ]
  },
  {
   "cell_type": "code",
   "execution_count": 1,
   "id": "41b334ad",
   "metadata": {},
   "outputs": [
    {
     "name": "stdout",
     "output_type": "stream",
     "text": [
      "Requirement already satisfied: pyspellchecker in /home/tako/anaconda3/envs/ym/lib/python3.8/site-packages (0.6.2)\n",
      "Note: you may need to restart the kernel to use updated packages.\n"
     ]
    }
   ],
   "source": [
    "pip install pyspellchecker"
   ]
  },
  {
   "cell_type": "code",
   "execution_count": 2,
   "id": "5e392200",
   "metadata": {},
   "outputs": [],
   "source": [
    "import re\n",
    "import torch\n",
    "import logging\n",
    "import numpy as np\n",
    "import matplotlib.pyplot as plt"
   ]
  },
  {
   "cell_type": "code",
   "execution_count": 3,
   "id": "6087d401",
   "metadata": {},
   "outputs": [],
   "source": [
    "from transformers import BertTokenizer, BertModel, pipeline"
   ]
  },
  {
   "cell_type": "code",
   "execution_count": 4,
   "id": "147876ec",
   "metadata": {},
   "outputs": [],
   "source": [
    "from spellchecker import SpellChecker"
   ]
  },
  {
   "cell_type": "code",
   "execution_count": 5,
   "id": "9533120b",
   "metadata": {},
   "outputs": [],
   "source": [
    "tokenizer = BertTokenizer.from_pretrained('bert-base-uncased')\n",
    "model = BertModel.from_pretrained(\"bert-base-uncased\")\n",
    "text = \"Replace me by any text you'd like.\"\n",
    "encoded_input = tokenizer(text, return_tensors='pt')\n",
    "output = model(**encoded_input)"
   ]
  },
  {
   "cell_type": "code",
   "execution_count": 6,
   "id": "910e2c5c",
   "metadata": {},
   "outputs": [
    {
     "name": "stderr",
     "output_type": "stream",
     "text": [
      "Some weights of the model checkpoint at bert-base-uncased were not used when initializing BertForMaskedLM: ['cls.seq_relationship.weight', 'cls.seq_relationship.bias']\n",
      "- This IS expected if you are initializing BertForMaskedLM from the checkpoint of a model trained on another task or with another architecture (e.g. initializing a BertForSequenceClassification model from a BertForPreTraining model).\n",
      "- This IS NOT expected if you are initializing BertForMaskedLM from the checkpoint of a model that you expect to be exactly identical (initializing a BertForSequenceClassification model from a BertForSequenceClassification model).\n"
     ]
    }
   ],
   "source": [
    "unmasker = pipeline('fill-mask', model='bert-base-uncased')"
   ]
  },
  {
   "cell_type": "markdown",
   "id": "fd6128ae",
   "metadata": {},
   "source": [
    "## 1. 입력 문장 처리\n",
    "input으로 문장이 들어오면 공백 단위로 자르고 각각의 단어를[MASK]로 바꿔서 문장을 만든다.<br>\n",
    "예시 문장\n",
    "\n",
    "발음이 헷갈릴법한 단어 위주로 선정<br>\n",
    "동음이자어(heterograph): 동일한 발음을 가졌지만 철자가 다른 단어를 의미"
   ]
  },
  {
   "cell_type": "markdown",
   "id": "0993c70f",
   "metadata": {},
   "source": [
    "1. their, there, they're<br>\n",
    "They are there with their dogs. 그들은 그들의 개와 함께 거기에 있다.<br>\n",
    "They are with there dogs."
   ]
  },
  {
   "cell_type": "code",
   "execution_count": 487,
   "id": "c89be837",
   "metadata": {},
   "outputs": [],
   "source": [
    "text1 = \"Dey are with their dogs.\""
   ]
  },
  {
   "cell_type": "markdown",
   "id": "9b33bc1c",
   "metadata": {},
   "source": [
    "2. want, won’t\n",
    "I don't want to work at an office.저는 사무실에서 일하고 싶지 않아요.(사무직을 갖고 싶지 않아요)"
   ]
  },
  {
   "cell_type": "code",
   "execution_count": 9,
   "id": "8b57d136",
   "metadata": {},
   "outputs": [],
   "source": [
    "text2 = \"i don't won't to work at an office.\" # i don't want to work at an office."
   ]
  },
  {
   "cell_type": "markdown",
   "id": "31a666f7",
   "metadata": {},
   "source": [
    "3. walk, work\n",
    "We went for a walk along the sand. 우리는 모래사장을 따라 산책을 나갔다.\n",
    "we work along the road.\n",
    "we walk along the saend.\n",
    "we wilk along the road."
   ]
  },
  {
   "cell_type": "code",
   "execution_count": 468,
   "id": "e1e30912",
   "metadata": {},
   "outputs": [],
   "source": [
    "text1 = \"we went for a walk along the sand.\" # We went for a walk along the sand."
   ]
  },
  {
   "cell_type": "markdown",
   "id": "90b1a958",
   "metadata": {},
   "source": [
    "4. lock, rock\n",
    "She rammed the key into the lock. 그녀는 열쇠를 자물쇠 안으로 넣었다.\n",
    "she rammed the key into the rock.\n",
    "she lamed the key into the lock.\n",
    "she rammed the ki into the lock."
   ]
  },
  {
   "cell_type": "code",
   "execution_count": 237,
   "id": "84a41dd8",
   "metadata": {},
   "outputs": [],
   "source": [
    "text1 = \"she lamed the key into the lock.\" # The height of the bicycle seat is adjustable."
   ]
  },
  {
   "cell_type": "markdown",
   "id": "f565ea76",
   "metadata": {},
   "source": [
    "5. sit, seat\n",
    "Could you find me my seat, please? 제 자리가 어디인지 찾아 주시겠어요?\n",
    "Could you find me my sit, please?\n",
    "Could you fine me my seat, please?"
   ]
  },
  {
   "cell_type": "code",
   "execution_count": 337,
   "id": "fa39c418",
   "metadata": {},
   "outputs": [],
   "source": [
    "text1 = \"Could you fine me my seat, please?\" # The height of the bicycle seat is adjustable."
   ]
  },
  {
   "cell_type": "markdown",
   "id": "2f9b3585",
   "metadata": {},
   "source": [
    "6. Lose / loose\t\n",
    "The engine came loose from its mountings. \n",
    "엔진이 받침대에 고정된 부분이 헐거워졌다.\n",
    "\n",
    "It’s hard to see how they can lose.  \n",
    "그들이 어떻게 질 수 있는지 이해하기 어렵다."
   ]
  },
  {
   "cell_type": "code",
   "execution_count": 377,
   "id": "dd862587",
   "metadata": {},
   "outputs": [],
   "source": [
    "text1 = \"It's hard to ce how they can lose.\" # The height of the bicycle seat is adjustable."
   ]
  },
  {
   "cell_type": "markdown",
   "id": "9a43d937",
   "metadata": {},
   "source": [
    "7. principle / principal\t\n",
    "He acted out of expediency, not principle. \n",
    "그는 원칙이 아닌 편의성에 따라 행동을 했다.\n",
    "\n",
    "The principal is a very busy woman. \n",
    "교장 선생님은 너무 바쁜 분이다"
   ]
  },
  {
   "cell_type": "code",
   "execution_count": 480,
   "id": "a5be6a83",
   "metadata": {},
   "outputs": [],
   "source": [
    "text1 = \"He acted out of expediency, not principle.\""
   ]
  },
  {
   "cell_type": "markdown",
   "id": "46db5d5e",
   "metadata": {},
   "source": [
    "8. cite / site / sight\t\n",
    "If you quote a writer in academic work, you must cite the source. \n",
    "과제나 논문에 어떤 작가의 글을 인용한다면 반드시 출처를 남겨야 한다.\n",
    "\n",
    "The monument was moved bodily to a new site.  \n",
    "그 기념비는 온전히 새 장소로 이전되었다.\n",
    "\n",
    "She paled visibly at the sight of the police car.  \n",
    "그녀는 경찰차를 보자 얼굴이 눈에 띄게 창백해졌다."
   ]
  },
  {
   "cell_type": "code",
   "execution_count": 16,
   "id": "950a8a5c",
   "metadata": {},
   "outputs": [],
   "source": [
    "text8 = \"The height of the bicycle sit is adjustable.\" # The height of the bicycle seat is adjustable."
   ]
  },
  {
   "cell_type": "markdown",
   "id": "2a214c9d",
   "metadata": {},
   "source": [
    "9. Sew /sow\t\t\n",
    "Can you sew a button on for me?  \n",
    "내 옷에 단추 좀 달아 주겠니?\n",
    "\n",
    "You must sow before you can reap. \n",
    "수확하기 전에 씨를 뿌려야 한다[노력 없이는 성과도 없다]."
   ]
  },
  {
   "cell_type": "code",
   "execution_count": 17,
   "id": "249d483e",
   "metadata": {},
   "outputs": [],
   "source": [
    "text9 = \"The height of the bicycle sit is adjustable.\" # The height of the bicycle seat is adjustable."
   ]
  },
  {
   "cell_type": "markdown",
   "id": "825a5f04",
   "metadata": {},
   "source": [
    "10. Know / no\n",
    "I need to know around how many people are coming in order to make dinner reservations, so please let me know asap.  \n",
    "저녁 예약하려면 대충 몇 명이 올지 알아야 돼. 그러니까 최대한 빨리 알려줘.\n",
    "\n",
    "I know him by sight, but I don't know who he is.\n",
    "저 사람 얼굴은 눈에 익은데 누군지는 몰라."
   ]
  },
  {
   "cell_type": "code",
   "execution_count": 18,
   "id": "36800cd8",
   "metadata": {},
   "outputs": [],
   "source": [
    "text10 = \"The height of the bicycle sit is adjustable.\" # The height of the bicycle seat is adjustable."
   ]
  },
  {
   "cell_type": "markdown",
   "id": "4c0729e2",
   "metadata": {},
   "source": [
    "11. Buy / bye / by\t\n",
    "You can buy brushes, paint, varnish and suchlike there.\n",
    "거기에서는 붓, 페인트, 니스, 그러한 것들을 살 수 있다.\n",
    "\n",
    "That jacket was a really good buy. \n",
    "그 재킷은 정말 잘 샀어\n",
    "\n",
    "She said goodbye and thanked us for coming. \n",
    "그녀가 작별 인사를 하며 우리에게 와 줘서 고맙다고 했다.\n",
    "\n",
    "Nocturnal animals sleep by day and hunt by night. \n",
    "야행성 동물은 낮에 자고 밤에 사냥을 한다."
   ]
  },
  {
   "cell_type": "code",
   "execution_count": 19,
   "id": "24454461",
   "metadata": {},
   "outputs": [],
   "source": [
    "text11 = \"The height of the bicycle sit is adjustable.\" # The height of the bicycle seat is adjustable."
   ]
  },
  {
   "cell_type": "markdown",
   "id": "9a19c22f",
   "metadata": {},
   "source": [
    "12. Base / bass\n",
    "Can you take it easy on the bass drum there? \n",
    "베이스 드럼 좀 살살 칠 수 없겠니?\n",
    "\n",
    "Unlike most bassists, he plays a six-string bass. \n",
    "대부분의 베이시스트와는 달리, 그는 줄이 6개인 베이스를 연주한다.\n",
    "\n",
    "This tasty fish is as mild as sea bass, but with a somewhat firmer texture. \n",
    "맛이 기막힌 이 물고기는 살 조직은 단단하면서도 농어처럼 담백합니다."
   ]
  },
  {
   "cell_type": "code",
   "execution_count": 20,
   "id": "f8f41926",
   "metadata": {},
   "outputs": [],
   "source": [
    "text12 = \"The height of the bicycle sit is adjustable.\" # The height of the bicycle seat is adjustable."
   ]
  },
  {
   "cell_type": "markdown",
   "id": "8ce98357",
   "metadata": {},
   "source": [
    "13. Tier / tear\n",
    "\n",
    "We have introduced an extra tier of administration. \n",
    "우리는 행정 처리 단계를 추가로 한 단계 더 도입했다.\n",
    "\n",
    "She was unable to tear her eyes away from him.  \n",
    "그녀는 그에게서 눈을 뗄 수가 없었다.\n",
    "\n",
    "A tear plopped down onto the page she was reading. \n",
    "그녀가 읽고 있던 책장 위로 눈물이 한 방울 툭 떨어졌다"
   ]
  },
  {
   "cell_type": "code",
   "execution_count": 525,
   "id": "8dc0f448",
   "metadata": {},
   "outputs": [],
   "source": [
    "text1 = \"He acted out of xpedienci, not principle.\" # The height of the bicycle seat is adjustable."
   ]
  },
  {
   "cell_type": "code",
   "execution_count": 526,
   "id": "9941c089",
   "metadata": {},
   "outputs": [
    {
     "data": {
      "text/plain": [
       "'.'"
      ]
     },
     "execution_count": 526,
     "metadata": {},
     "output_type": "execute_result"
    }
   ],
   "source": [
    "text1[-1]"
   ]
  },
  {
   "cell_type": "code",
   "execution_count": 527,
   "id": "c0db3498",
   "metadata": {
    "scrolled": true
   },
   "outputs": [
    {
     "name": "stdout",
     "output_type": "stream",
     "text": [
      "[MASK] acted out of xpedienci, not principle.\n",
      "he [MASK] out of xpedienci, not principle.\n",
      "he acted [MASK] of xpedienci, not principle.\n",
      "he acted out [MASK] xpedienci, not principle.\n",
      "he acted out of [MASK] not principle.\n",
      "he acted out of xpedienci, [MASK] principle.\n",
      "he acted out of xpedienci, not [MASK].\n"
     ]
    },
    {
     "data": {
      "text/plain": [
       "['he', 'acted', 'out', 'of', 'xpedienci,', 'not', 'principle.']"
      ]
     },
     "execution_count": 527,
     "metadata": {},
     "output_type": "execute_result"
    }
   ],
   "source": [
    "text_split = list(map(str,text1.lower().split()))\n",
    "text_list = []\n",
    "for i in range(len(text_split)):\n",
    "    temp = list(text_split)\n",
    "    temp[i] = '[MASK]'\n",
    "    if i == len(text_split)-1:\n",
    "        if text1[-1] == '?':\n",
    "            temp[i] = '[MASK]?'\n",
    "        else:\n",
    "            temp[i] = '[MASK].'\n",
    "    text_list.append(' '.join(map(str,temp)))\n",
    "    print(' '.join(map(str,temp)))\n",
    "text_split"
   ]
  },
  {
   "cell_type": "markdown",
   "id": "c518ff2d",
   "metadata": {},
   "source": [
    "## 2. 오타 검사를 위해 spell checker 사용\n",
    "spell checker에서는 구두점이 영향을 주는 것으로 판단.\n",
    "숫자나 영어를 제외한 문자는 제거(특수문자 등)"
   ]
  },
  {
   "cell_type": "code",
   "execution_count": 528,
   "id": "fcf45e0d",
   "metadata": {},
   "outputs": [],
   "source": [
    "spell = SpellChecker()"
   ]
  },
  {
   "cell_type": "code",
   "execution_count": 529,
   "id": "1c30bbd2",
   "metadata": {},
   "outputs": [
    {
     "data": {
      "text/plain": [
       "['he', 'acted', 'out', 'of', 'xpedienci', 'not', 'principle']"
      ]
     },
     "execution_count": 529,
     "metadata": {},
     "output_type": "execute_result"
    }
   ],
   "source": [
    "for i in range(len(text_split)):\n",
    "    new = re.sub('[-=+,#/\\:.?!<>]',\"\",text_split[i])\n",
    "    text_split[i] = new\n",
    "text_split"
   ]
  },
  {
   "cell_type": "code",
   "execution_count": 530,
   "id": "c25db861",
   "metadata": {},
   "outputs": [
    {
     "name": "stdout",
     "output_type": "stream",
     "text": [
      "가장 가능성이 높은 결과: expediency\n",
      "수정 가능한 단어 후보: {'expediency', 'expedience'}\n"
     ]
    }
   ],
   "source": [
    "misspelled = spell.unknown(text_split) # find those words that may be misspelled\n",
    "\n",
    "miss_word = [] # 오류가 있는 단어 리스트 \n",
    "miss_index = [] # 오류가 있는 단어 인덱스\n",
    "candidate = {} # 가능한 후보 딕셔너리\n",
    "for word in misspelled:\n",
    "    miss_word.append(word)\n",
    "    miss_index.append(text_split.index(word))\n",
    "    candidate[word] = list(spell.candidates(word))\n",
    "    \n",
    "    \n",
    "    print(\"가장 가능성이 높은 결과:\",spell.correction(word)) # 철자가 틀린 단어에 대해 가장 가능성이 높은 결과를 반환\n",
    "    print(\"수정 가능한 단어 후보:\", spell.candidates(word)) # 철자가 틀린 단어에 대해 가능한 후보 세트를 반환"
   ]
  },
  {
   "cell_type": "code",
   "execution_count": 531,
   "id": "81a3b95f",
   "metadata": {},
   "outputs": [],
   "source": [
    "candidate.get('wilk')"
   ]
  },
  {
   "cell_type": "markdown",
   "id": "4e8c178a",
   "metadata": {},
   "source": [
    "## 3. 단어간 유사도 구하기\n",
    "Levenshtein Distance (Edit Distance): 두 문자열 간의 차이를 거리로 계산하는 방법<br>\n",
    "하나의 문자열 S를 수정하여 다른 문자열 T로 변환시키고자 할 때, 삽입 (insert), 삭제 (delete), 대체 (substitute) 연산이 사용된다. <br>S를 T로 변환시키는데 필요한 최소의 편집 연산 횟수를 편집 거리라고 한다.\n",
    "\n",
    "### 1) 편집 거리 구하는 함수"
   ]
  },
  {
   "cell_type": "code",
   "execution_count": 532,
   "id": "1e7fbcd9",
   "metadata": {},
   "outputs": [],
   "source": [
    "# 두 문자열 길이비교\n",
    "def compareLength(s1, s2):\n",
    "    if len(s1) >= len(s2):\n",
    "        longstr, shortstr = s1, s2\n",
    "    else:\n",
    "        longstr, shortstr = s2, s1\n",
    "    return longstr, shortstr\n",
    "\n",
    "def getDistanceList(s1, s2):\n",
    "    M = [[0] * (len(s1)+1) for _ in range(len(s1)+1)]# 길이가 긴 문자열을 기준으로 2차원 리스트 초기\n",
    "    long = len(s1)\n",
    "    short = len(s2)        \n",
    "    for i in range(long+1):\n",
    "        M[i][0] = i\n",
    "    for j in range(short+1):\n",
    "        M[0][j] = j\n",
    "    for i in range(1, long+1):\n",
    "        for j in range(1, short+1):\n",
    "            if s1[i-1] == s2[j-1]:\n",
    "                M[i][j] = M[i-1][j-1]\n",
    "            else:\n",
    "                M[i][j] = min(M[i-1][j], M[i-1][j-1], M[i][j-1]) + 1\n",
    "    return M, M[long][short] "
   ]
  },
  {
   "cell_type": "markdown",
   "id": "acb8f58c",
   "metadata": {},
   "source": [
    "### 2) 문자열 바꾸는 과정(삽입, 삭제, 변경)을 출력하는 함수"
   ]
  },
  {
   "cell_type": "code",
   "execution_count": 533,
   "id": "fc32f7bd",
   "metadata": {},
   "outputs": [],
   "source": [
    "def getTrace(m, s1, s2):\n",
    "    print(\"[\", s2, \"을(를)\", s1, \"로 바꾸는 과정 ]\")\n",
    "    i, j = len(s1) - 1, len(s2) - 1\n",
    "    while not(i == 0 and j ==0):\n",
    "        s = min(m[i-1][j], m[i-1][j-1], m[i][j-1])\n",
    "        if s == m[i][j]:\n",
    "            i -= 1\n",
    "            j -= 1\n",
    "        elif s == m[i][j-1]:\n",
    "            print(s1[i-1] + \"을(를) 삭제\")\n",
    "            j -= 1\n",
    "        elif s == m[i-1][j-1]:\n",
    "            print(s2[j-1] + \"을(를) \" +s1[i-1]  + \"(으)로 변경\")\n",
    "            i -= 1\n",
    "            j -= 1\n",
    "        else:\n",
    "            print(s1[i] + \"을(를) 추가\")\n",
    "            i -= 1"
   ]
  },
  {
   "cell_type": "markdown",
   "id": "9abe0ec8",
   "metadata": {},
   "source": [
    "## edit distance 구하는 예시"
   ]
  },
  {
   "cell_type": "code",
   "execution_count": 534,
   "id": "79f01766",
   "metadata": {},
   "outputs": [
    {
     "name": "stdout",
     "output_type": "stream",
     "text": [
      "dadrt 와(과) caert 의 최소 편집 거리는 2 이다.\n",
      "\n",
      "[ dadrt 을(를) caert 로 바꾸는 과정 ]\n",
      "d을(를) e(으)로 변경\n",
      "d을(를) c(으)로 변경\n"
     ]
    }
   ],
   "source": [
    "# 비교할 문자열 s1, s2\n",
    "s1=\"caert\"\n",
    "s2=\"dadrt\"\n",
    "s1, s2 = compareLength(s1, s2) #문자열의 길이를 비교해서 s1에 긴문자열, s2에 짧은 문자열을 넣는다.\n",
    "\n",
    "M, edit_distance = getDistanceList(s1, s2) # list, 편집거리 \n",
    "\n",
    "print(s2, \"와(과)\", s1, \"의 최소 편집 거리는\", edit_distance , \"이다.\", end=\"\\n\\n\")\n",
    "getTrace(M, s1, s2) # 문자열 바꾸는 과정 출력"
   ]
  },
  {
   "cell_type": "markdown",
   "id": "3a1ab664",
   "metadata": {},
   "source": [
    "&nbsp;&nbsp; **(1) spell checker의 단어 후보 들을 edit distance가 작은 순서로 정렬 (일치하는 단어가 없을 경우를 대비해)<br>**\n",
    "만약  spell checker에서 오타가 발견되면 문장을 masked lm에 넣어 spell checker에서 나온 단어 후보들을 찾아 score 값이 어떻게 되는지 확인해 가장 확률이 높은 것을 반환해 오타를 교정하고 문장을 완성시킨다."
   ]
  },
  {
   "cell_type": "markdown",
   "id": "3bc0a425",
   "metadata": {},
   "source": [
    "spell checker에서 오타가 발견된 경우"
   ]
  },
  {
   "cell_type": "code",
   "execution_count": 535,
   "id": "f47a0578",
   "metadata": {},
   "outputs": [],
   "source": [
    "search_candidate = candidate.get(original_token)\n",
    "candidate.get(original_token)"
   ]
  },
  {
   "cell_type": "code",
   "execution_count": 536,
   "id": "c7341b03",
   "metadata": {},
   "outputs": [
    {
     "name": "stdout",
     "output_type": "stream",
     "text": [
      "index number: 4 \n",
      "masked sentence: he acted out of [MASK] not principle. \n",
      "original token: xpedienci\n"
     ]
    }
   ],
   "source": [
    "if len(miss_index) > 0:\n",
    "    for num in miss_index:\n",
    "        masked_sentence = text_list[num]\n",
    "        original_token = text_split[num]\n",
    "        print(\"index number:\",num,\"\\nmasked sentence:\", masked_sentence, \"\\noriginal token:\", original_token)\n",
    "        search_candidate = candidate.get(original_token)\n",
    "        candidate.get(original_token)\n",
    "else:\n",
    "    print('오타가 발견되지 않았습니다.')"
   ]
  },
  {
   "cell_type": "code",
   "execution_count": 537,
   "id": "53d09d6a",
   "metadata": {},
   "outputs": [],
   "source": [
    "fill = unmasker(masked_sentence, original_token = original_token, top_k=30500)#\"[MASK] man worked as a carpenter.\""
   ]
  },
  {
   "cell_type": "code",
   "execution_count": 538,
   "id": "fd4d0736",
   "metadata": {},
   "outputs": [
    {
     "name": "stdout",
     "output_type": "stream",
     "text": [
      "expediency\n",
      "expedience\n"
     ]
    }
   ],
   "source": [
    "result1 = []\n",
    "\n",
    "for i in search_candidate:\n",
    "    find = i\n",
    "    print(find)\n",
    "    for j in range(len(fill)):\n",
    "        if find == fill[j].get('token_str'):\n",
    "            print(fill[j])\n",
    "            result1.append(fill[j])"
   ]
  },
  {
   "cell_type": "markdown",
   "id": "da359cd4",
   "metadata": {},
   "source": [
    "### spell checker에서 나온 단어 후보들을 찾고 score를 기준으로 내림차순으로 정렬한 결과"
   ]
  },
  {
   "cell_type": "code",
   "execution_count": 539,
   "id": "8395958d",
   "metadata": {
    "scrolled": true
   },
   "outputs": [
    {
     "data": {
      "text/plain": [
       "[]"
      ]
     },
     "execution_count": 539,
     "metadata": {},
     "output_type": "execute_result"
    }
   ],
   "source": [
    "result1 = sorted(result1, key = lambda x:-x['score'])\n",
    "result1"
   ]
  },
  {
   "cell_type": "code",
   "execution_count": 540,
   "id": "f98f43a9",
   "metadata": {},
   "outputs": [
    {
     "ename": "IndexError",
     "evalue": "list index out of range",
     "output_type": "error",
     "traceback": [
      "\u001b[0;31m---------------------------------------------------------------------------\u001b[0m",
      "\u001b[0;31mIndexError\u001b[0m                                Traceback (most recent call last)",
      "\u001b[0;32m<ipython-input-540-23bebb9316b5>\u001b[0m in \u001b[0;36m<module>\u001b[0;34m\u001b[0m\n\u001b[0;32m----> 1\u001b[0;31m \u001b[0mprint\u001b[0m\u001b[0;34m(\u001b[0m\u001b[0;34m'score가 가장 높은 단어:'\u001b[0m\u001b[0;34m,\u001b[0m\u001b[0mresult1\u001b[0m\u001b[0;34m[\u001b[0m\u001b[0;36m0\u001b[0m\u001b[0;34m]\u001b[0m\u001b[0;34m[\u001b[0m\u001b[0;34m'token_str'\u001b[0m\u001b[0;34m]\u001b[0m\u001b[0;34m)\u001b[0m\u001b[0;34m\u001b[0m\u001b[0;34m\u001b[0m\u001b[0m\n\u001b[0m",
      "\u001b[0;31mIndexError\u001b[0m: list index out of range"
     ]
    }
   ],
   "source": [
    "print('score가 가장 높은 단어:',result1[0]['token_str'])"
   ]
  },
  {
   "attachments": {},
   "cell_type": "markdown",
   "id": "7594286f",
   "metadata": {},
   "source": [
    "## 4. 정렬하지 않은 masked language model의 결과"
   ]
  },
  {
   "cell_type": "code",
   "execution_count": 541,
   "id": "7b89c0c9",
   "metadata": {},
   "outputs": [],
   "source": [
    "#밑에 거랑 같은데 edit distance를 추가하지않은 그냥 간단한 코드\n",
    "#for num in range(len(text_split)):\n",
    "#    masked_sentence = text_list[num]\n",
    "#    original_token = text_split[num]\n",
    "#    print(\"index number:\",num,\"\\nmasked sentence:\", masked_sentence, \"\\noriginal token:\", original_token)\n",
    "#    print(unmasker(masked_sentence, original_token = original_token, top_k=30000)[:5])"
   ]
  },
  {
   "cell_type": "code",
   "execution_count": 542,
   "id": "e137d359",
   "metadata": {
    "scrolled": true
   },
   "outputs": [
    {
     "name": "stdout",
     "output_type": "stream",
     "text": [
      "[MASK] acted out of xpedienci, not principle.  original token: he\n",
      "he\the acted out of xpedienci, not principle.\t0.2805768549442291\t0\n",
      "they\tthey acted out of xpedienci, not principle.\t0.27347809076309204\t2\n",
      "i\ti acted out of xpedienci, not principle.\t0.10436078906059265\t2\n",
      "she\tshe acted out of xpedienci, not principle.\t0.08458615094423294\t1\n",
      "he [MASK] out of xpedienci, not principle.  original token: acted\n",
      "was\the was out of xpedienci, not principle.\t0.4058654308319092\t5\n",
      "worked\the worked out of xpedienci, not principle.\t0.06393358111381531\t4\n",
      "is\the is out of xpedienci, not principle.\t0.04533344879746437\t5\n",
      "lived\the lived out of xpedienci, not principle.\t0.038377948105335236\t3\n",
      "he acted [MASK] of xpedienci, not principle.  original token: out\n",
      "out\the acted out of xpedienci, not principle.\t0.5507052540779114\t0\n",
      "because\the acted because of xpedienci, not principle.\t0.17053009569644928\t6\n",
      "independently\the acted independently of xpedienci, not principle.\t0.06727415323257446\t12\n",
      "instead\the acted instead of xpedienci, not principle.\t0.021712124347686768\t6\n",
      "he acted out [MASK] xpedienci, not principle.  original token: of\n",
      "of\the acted out of xpedienci, not principle.\t0.39043813943862915\t0\n",
      "for\the acted out for xpedienci, not principle.\t0.07513274252414703\t2\n",
      "on\the acted out on xpedienci, not principle.\t0.06033042073249817\t1\n",
      ",\the acted out, xpedienci, not principle.\t0.05592711642384529\t2\n",
      "he acted out of [MASK] not principle.  original token: xpedienci\n",
      "fact\the acted out of fact not principle.\t0.05660917982459068\t8\n",
      "fear\the acted out of fear not principle.\t0.03938063606619835\t8\n",
      "faith\the acted out of faith not principle.\t0.03297635167837143\t8\n",
      "reason\the acted out of reason not principle.\t0.032893601804971695\t7\n",
      "he acted out of xpedienci, [MASK] principle.  original token: not\n",
      "in\the acted out of xpedienci, in principle.\t0.35132744908332825\t3\n",
      "a\the acted out of xpedienci, a principle.\t0.1416454017162323\t3\n",
      "on\the acted out of xpedienci, on principle.\t0.10486959666013718\t2\n",
      "the\the acted out of xpedienci, the principle.\t0.05582280829548836\t3\n",
      "he acted out of xpedienci, not [MASK].  original token: principle\n",
      "himself\the acted out of xpedienci, not himself.\t0.029089707881212234\t7\n",
      "intentionally\the acted out of xpedienci, not intentionally.\t0.024313556030392647\t10\n",
      "alone\the acted out of xpedienci, not alone.\t0.02317791059613228\t7\n",
      "fear\the acted out of xpedienci, not fear.\t0.01925930194556713\t9\n"
     ]
    }
   ],
   "source": [
    "fill2 = []\n",
    "for num in range(len(text_split)):\n",
    "    masked_sentence = text_list[num]\n",
    "    original_token = text_split[num]\n",
    "    #index\",num,\" \n",
    "    print(masked_sentence, \" original token:\", original_token)\n",
    "    fill2.append(unmasker(masked_sentence, original_token = original_token, top_k=30000))\n",
    "    for i in range(len(fill2)):\n",
    "        for j in range(len(fill2[i])):\n",
    "            s1 = fill2[i][j].get('token_str')\n",
    "            s2 = original_token\n",
    "            s1, s2 = compareLength(s1, s2) #문자열의 길이를 비교해서 s1에 긴문자열, s2에 짧은 문자열을 넣는다.\n",
    "    \n",
    "            M, edit_distance = getDistanceList(s1, s2)\n",
    "            #print(s2, \"와(과)\", s1, \"의 최소 편집 거리는\", edit_distance , \"이다.\", end=\"\\n\\n\")\n",
    "            fill2[i][j]['distance'] = edit_distance\n",
    "    result2 = (fill2[num])\n",
    "    for k in range(4):\n",
    "        print(result2[k].get('token_str'),end='\\t')\n",
    "        print(result2[k].get('sequence'),end='\\t')\n",
    "        print(result2[k].get('score'),end='\\t')\n",
    "        print(result2[k].get('distance'))"
   ]
  },
  {
   "attachments": {},
   "cell_type": "markdown",
   "id": "7457d8a4",
   "metadata": {},
   "source": [
    "## 5. masked language model의 결과에서 input word와 edit distance기준 오름차순 정렬 후 score 기준 내림차순 정렬한 결과"
   ]
  },
  {
   "cell_type": "code",
   "execution_count": 550,
   "id": "b4eef62b",
   "metadata": {
    "scrolled": true
   },
   "outputs": [
    {
     "name": "stdout",
     "output_type": "stream",
     "text": [
      "[MASK] acted out of xpedienci, not principle.  original token: he\n",
      "he\the acted out of xpedienci, not principle.\t0.2805768549442291\t0\n",
      "she\tshe acted out of xpedienci, not principle.\t0.08458615094423294\t1\n",
      "we\twe acted out of xpedienci, not principle.\t0.04710749164223671\t1\n",
      "the\tthe acted out of xpedienci, not principle.\t0.0005782983498647809\t1\n",
      "he [MASK] out of xpedienci, not principle.  original token: acted\n",
      "acted\the acted out of xpedienci, not principle.\t0.013383772224187851\t0\n",
      "ached\the ached out of xpedienci, not principle.\t2.51587298407685e-05\t1\n",
      "wanted\the wanted out of xpedienci, not principle.\t0.022763263434171677\t2\n",
      "opted\the opted out of xpedienci, not principle.\t0.0020718658342957497\t2\n",
      "he acted [MASK] of xpedienci, not principle.  original token: out\n",
      "out\the acted out of xpedienci, not principle.\t0.5507052540779114\t0\n",
      "but\the acted but of xpedienci, not principle.\t7.395708234980702e-05\t1\n",
      "opt\the acted opt of xpedienci, not principle.\t2.4380885861319257e-06\t1\n",
      "gut\the acted gut of xpedienci, not principle.\t1.3389430932875257e-06\t1\n",
      "he acted out [MASK] xpedienci, not principle.  original token: of\n",
      "of\the acted out of xpedienci, not principle.\t0.39043813943862915\t0\n",
      "on\the acted out on xpedienci, not principle.\t0.06033042073249817\t1\n",
      "or\the acted out or xpedienci, not principle.\t0.00036556232953444123\t1\n",
      "f\the acted out f xpedienci, not principle.\t0.00017714820569381118\t1\n",
      "he acted out of [MASK] not principle.  original token: xpedienci\n",
      "experience\the acted out of experience not principle.\t0.002393381204456091\t3\n",
      "obedience\the acted out of obedience not principle.\t0.0003266040002927184\t3\n",
      "patience\the acted out of patience not principle.\t0.00022682789131067693\t4\n",
      "audience\the acted out of audience not principle.\t2.4537443096050993e-05\t4\n",
      "he acted out of xpedienci, [MASK] principle.  original token: not\n",
      "not\the acted out of xpedienci, not principle.\t0.02041831612586975\t0\n",
      "no\the acted out of xpedienci, no principle.\t0.008113650605082512\t1\n",
      "non\the acted out of xpedienci, non principle.\t0.00029859866481274366\t1\n",
      "nor\the acted out of xpedienci, nor principle.\t8.016657375264913e-05\t1\n",
      "he acted out of xpedienci, not [MASK].  original token: principle\n",
      "principle\the acted out of xpedienci, not principle.\t0.00022981103393249214\t0\n",
      "principles\the acted out of xpedienci, not principles.\t0.00037327277823351324\t1\n",
      "principal\the acted out of xpedienci, not principal.\t8.620244443591218e-06\t2\n",
      "principals\the acted out of xpedienci, not principals.\t7.414260380755877e-06\t2\n"
     ]
    }
   ],
   "source": [
    "fill2 = []\n",
    "for num in range(len(text_split)):\n",
    "    masked_sentence = text_list[num]\n",
    "    original_token = text_split[num]\n",
    "    print(masked_sentence, \" original token:\", original_token)\n",
    "    fill2.append(unmasker(masked_sentence, original_token = original_token, top_k=30000))\n",
    "    for i in range(len(fill2)):\n",
    "        for j in range(len(fill2[i])):\n",
    "            s1 = fill2[i][j].get('token_str')\n",
    "            s2 = original_token\n",
    "            s1, s2 = compareLength(s1, s2) #문자열의 길이를 비교해서 s1에 긴문자열, s2에 짧은 문자열을 넣는다.\n",
    "    \n",
    "            M, edit_distance = getDistanceList(s1, s2)\n",
    "            #print(s2, \"와(과)\", s1, \"의 최소 편집 거리는\", edit_distance , \"이다.\", end=\"\\n\\n\")\n",
    "            fill2[i][j]['distance'] = edit_distance\n",
    "    result2 = sorted(fill2[num], key = lambda x:(x['distance'],-x['score']))\n",
    "#    result2 = sorted(fill2[num], key = lambda x:(-x['score']))\n",
    "    for k in range(4):\n",
    "        print(result2[k].get('token_str'),end='\\t')\n",
    "        print(result2[k].get('sequence'),end='\\t')\n",
    "        print(result2[k].get('score'),end='\\t')\n",
    "        print(result2[k].get('distance'))"
   ]
  },
  {
   "cell_type": "code",
   "execution_count": 549,
   "id": "e3634dd2",
   "metadata": {},
   "outputs": [
    {
     "name": "stdout",
     "output_type": "stream",
     "text": [
      "score가 가장 높은 단어: principle\n"
     ]
    }
   ],
   "source": [
    "print('score가 가장 높은 단어:',result2[0]['token_str'])"
   ]
  },
  {
   "cell_type": "markdown",
   "id": "0bcb0b79",
   "metadata": {},
   "source": [
    "Masked lm에서 원하는 단어가 찾아지지 않은 경우 원래 단어가 어디에 있는지 겁색"
   ]
  },
  {
   "cell_type": "code",
   "execution_count": 552,
   "id": "223fc2f3",
   "metadata": {},
   "outputs": [],
   "source": [
    "masked_sentence = \"he acted out of [MASK] not principle.\"\n",
    "original_token = \"xpedienci\"\n",
    "find = \"expediency\"\n",
    "fill = unmasker(masked_sentence, original_token = original_token, top_k=30100)#\"[MASK] man worked as a carpenter.\"\n",
    "\n",
    "for j in range(len(fill)):\n",
    "    if find == fill[j].get('token_str'):\n",
    "        print(j,fill[j])"
   ]
  },
  {
   "cell_type": "markdown",
   "id": "baa6e749",
   "metadata": {},
   "source": [
    "## To Do\n",
    "### 1. 정확도 측정: 음성인식결과로 돌려보기\n",
    "#### 1) deep speech에 음성 데이터 셋을 넣은 결과와 그 결과를 '이 코드'를 돌려서 차이 비교하기\n",
    "- 결과를 코드에 어떻게 돌려서 score를 측정할 것인지 고민\n",
    "\n",
    "#### 2) 유튜브에서 음성 가져오기\n",
    "- 유튜브 음성 가져와서 텍스트로 변환하는 작업 어떻게 할지\n",
    "   - 기존 자막 서비스 이용해서 텍스트로 추출\n",
    "   - 추출한 텍스트를 '이 코드' 돌리고 차이가 있는지 비교\n",
    "\n",
    "### 2. 리팩토링 & 연결\n",
    "\n",
    "\n"
   ]
  },
  {
   "cell_type": "code",
   "execution_count": null,
   "id": "06c58fff",
   "metadata": {},
   "outputs": [],
   "source": []
  }
 ],
 "metadata": {
  "kernelspec": {
   "display_name": "Python 3",
   "language": "python",
   "name": "python3"
  },
  "language_info": {
   "codemirror_mode": {
    "name": "ipython",
    "version": 3
   },
   "file_extension": ".py",
   "mimetype": "text/x-python",
   "name": "python",
   "nbconvert_exporter": "python",
   "pygments_lexer": "ipython3",
   "version": "3.8.8"
  }
 },
 "nbformat": 4,
 "nbformat_minor": 5
}
