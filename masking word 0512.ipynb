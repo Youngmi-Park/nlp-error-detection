{
 "cells": [
  {
   "cell_type": "markdown",
   "id": "d4721d0c",
   "metadata": {},
   "source": [
    "# Masked word completion with BERT"
   ]
  },
  {
   "cell_type": "code",
   "execution_count": 5,
   "id": "41b334ad",
   "metadata": {},
   "outputs": [
    {
     "name": "stdout",
     "output_type": "stream",
     "text": [
      "Collecting pyspellchecker\n",
      "  Downloading pyspellchecker-0.6.2-py3-none-any.whl (2.7 MB)\n",
      "\u001b[K     |████████████████████████████████| 2.7 MB 2.0 MB/s eta 0:00:01\n",
      "\u001b[?25hInstalling collected packages: pyspellchecker\n",
      "Successfully installed pyspellchecker-0.6.2\n",
      "Note: you may need to restart the kernel to use updated packages.\n"
     ]
    }
   ],
   "source": [
    "pip install pyspellchecker"
   ]
  },
  {
   "cell_type": "code",
   "execution_count": 59,
   "id": "5e392200",
   "metadata": {},
   "outputs": [],
   "source": [
    "import re\n",
    "import torch\n",
    "import logging\n",
    "import numpy as np\n",
    "import matplotlib.pyplot as plt"
   ]
  },
  {
   "cell_type": "code",
   "execution_count": 3,
   "id": "6087d401",
   "metadata": {},
   "outputs": [],
   "source": [
    "from transformers import BertTokenizer, BertModel, pipeline"
   ]
  },
  {
   "cell_type": "code",
   "execution_count": 6,
   "id": "147876ec",
   "metadata": {},
   "outputs": [],
   "source": [
    "from spellchecker import SpellChecker"
   ]
  },
  {
   "cell_type": "code",
   "execution_count": 2,
   "id": "9533120b",
   "metadata": {},
   "outputs": [],
   "source": [
    "tokenizer = BertTokenizer.from_pretrained('bert-base-uncased')\n",
    "model = BertModel.from_pretrained(\"bert-base-uncased\")\n",
    "text = \"Replace me by any text you'd like.\"\n",
    "encoded_input = tokenizer(text, return_tensors='pt')\n",
    "output = model(**encoded_input)"
   ]
  },
  {
   "cell_type": "code",
   "execution_count": 4,
   "id": "910e2c5c",
   "metadata": {},
   "outputs": [
    {
     "name": "stderr",
     "output_type": "stream",
     "text": [
      "Some weights of the model checkpoint at bert-base-uncased were not used when initializing BertForMaskedLM: ['cls.seq_relationship.weight', 'cls.seq_relationship.bias']\n",
      "- This IS expected if you are initializing BertForMaskedLM from the checkpoint of a model trained on another task or with another architecture (e.g. initializing a BertForSequenceClassification model from a BertForPreTraining model).\n",
      "- This IS NOT expected if you are initializing BertForMaskedLM from the checkpoint of a model that you expect to be exactly identical (initializing a BertForSequenceClassification model from a BertForSequenceClassification model).\n"
     ]
    }
   ],
   "source": [
    "unmasker = pipeline('fill-mask', model='bert-base-uncased')"
   ]
  },
  {
   "cell_type": "markdown",
   "id": "fd6128ae",
   "metadata": {},
   "source": [
    "## 1. 입력 문장 처리\n",
    "input으로 문장이 들어오면 공백 단위로 자르고 각각의 단어를[MASK]로 바꿔서 문장을 만든다.<br>\n",
    "**Test Sentence: The man worked as a carpenter.**\n"
   ]
  },
  {
   "cell_type": "code",
   "execution_count": null,
   "id": "c89be837",
   "metadata": {},
   "outputs": [],
   "source": [
    "text = \"the man worked as a carpenter.\""
   ]
  },
  {
   "cell_type": "code",
   "execution_count": 279,
   "id": "7d3351ae",
   "metadata": {},
   "outputs": [],
   "source": [
    "text = \"i'm dying for a glass of waeter.\" # water찾기"
   ]
  },
  {
   "cell_type": "code",
   "execution_count": 280,
   "id": "c0db3498",
   "metadata": {},
   "outputs": [
    {
     "name": "stdout",
     "output_type": "stream",
     "text": [
      "[MASK] dying for a glass of waeter.\n",
      "i'm [MASK] for a glass of waeter.\n",
      "i'm dying [MASK] a glass of waeter.\n",
      "i'm dying for [MASK] glass of waeter.\n",
      "i'm dying for a [MASK] of waeter.\n",
      "i'm dying for a glass [MASK] waeter.\n",
      "i'm dying for a glass of [MASK].\n"
     ]
    },
    {
     "data": {
      "text/plain": [
       "[\"i'm\", 'dying', 'for', 'a', 'glass', 'of', 'waeter.']"
      ]
     },
     "execution_count": 280,
     "metadata": {},
     "output_type": "execute_result"
    }
   ],
   "source": [
    "text_split = list(map(str,text.split()))\n",
    "text_list = []\n",
    "for i in range(len(text_split)):\n",
    "    temp = list(text_split)\n",
    "    temp[i] = '[MASK]'\n",
    "    if i == len(text_split)-1:\n",
    "        temp[i] = '[MASK].'\n",
    "    text_list.append(' '.join(map(str,temp)))\n",
    "    print(' '.join(map(str,temp)))\n",
    "text_split"
   ]
  },
  {
   "cell_type": "markdown",
   "id": "c518ff2d",
   "metadata": {},
   "source": [
    "## 2. 오타 검사를 위해 spell checker 사용\n",
    "spell checker에서는 구두점이 영향을 주는 것으로 판단.\n",
    "숫자나 영어를 제외한 문자는 제거(특수문자 등)"
   ]
  },
  {
   "cell_type": "code",
   "execution_count": 281,
   "id": "fcf45e0d",
   "metadata": {},
   "outputs": [],
   "source": [
    "spell = SpellChecker()"
   ]
  },
  {
   "cell_type": "code",
   "execution_count": 284,
   "id": "1c30bbd2",
   "metadata": {},
   "outputs": [
    {
     "data": {
      "text/plain": [
       "[\"i'm\", 'dying', 'for', 'a', 'glass', 'of', 'waeter']"
      ]
     },
     "execution_count": 284,
     "metadata": {},
     "output_type": "execute_result"
    }
   ],
   "source": [
    "for i in range(len(text_split)):\n",
    "    new = re.sub('[-=+,#/\\:.?!<>]',\"\",text_split[i])\n",
    "    text_split[i] = new\n",
    "text_split"
   ]
  },
  {
   "cell_type": "code",
   "execution_count": 400,
   "id": "c25db861",
   "metadata": {},
   "outputs": [
    {
     "name": "stdout",
     "output_type": "stream",
     "text": [
      "가장 가능성이 높은 결과: water\n",
      "철자가 단어에 대해 가능한 후보 세트: {'water', 'waiter', 'wheter', 'walter', 'waster'}\n"
     ]
    }
   ],
   "source": [
    "misspelled = spell.unknown(text_split) # find those words that may be misspelled\n",
    "\n",
    "miss_word = [] # 오류가 있는 단어 리스트 \n",
    "miss_index = [] # 오류가 있는 단어 인덱스\n",
    "candidate = {} # 가능한 후보 딕셔너리\n",
    "for word in misspelled:\n",
    "    miss_word.append(word)\n",
    "    miss_index.append(text_split.index(word))\n",
    "    candidate[word] = list(spell.candidates(word))\n",
    "    \n",
    "    \n",
    "    print(\"가장 가능성이 높은 결과:\",spell.correction(word)) # 철자가 틀린 단어에 대해 가장 가능성이 높은 결과를 반환\n",
    "    print(\"철자가 단어에 대해 가능한 후보 세트:\", spell.candidates(word)) # 철자가 틀린 단어에 대해 가능한 후보 세트를 반환"
   ]
  },
  {
   "cell_type": "code",
   "execution_count": 380,
   "id": "81a3b95f",
   "metadata": {},
   "outputs": [
    {
     "data": {
      "text/plain": [
       "['water', 'waiter', 'wheter', 'walter', 'waster']"
      ]
     },
     "execution_count": 380,
     "metadata": {},
     "output_type": "execute_result"
    }
   ],
   "source": [
    "candidate.get('waeter')"
   ]
  },
  {
   "attachments": {},
   "cell_type": "markdown",
   "id": "4e8c178a",
   "metadata": {},
   "source": [
    "## 3. 단어간 유사도 구하기\n",
    "Levenshtein Distance (Edit Distance): 두 문자열 간의 차이를 거리로 계산하는 방법<br>\n",
    "하나의 문자열 S를 수정하여 다른 문자열 T로 변환시키고자 할 때, 삽입 (insert), 삭제 (delete), 대체 (substitute) 연산이 사용된다. <br>S를 T로 변환시키는데 필요한 최소의 편집 연산 횟수를 편집 거리라고 한다.\n",
    "\n",
    "### 1) 편집 거리 구하는 함수"
   ]
  },
  {
   "cell_type": "code",
   "execution_count": 265,
   "id": "1e7fbcd9",
   "metadata": {},
   "outputs": [],
   "source": [
    "# 두 문자열 길이비교\n",
    "def compareLength(s1, s2):\n",
    "    if len(s1) >= len(s2):\n",
    "        longstr, shortstr = s1, s2\n",
    "    else:\n",
    "        longstr, shortstr = s2, s1\n",
    "    return longstr, shortstr\n",
    "\n",
    "def getDistanceList(s1, s2):\n",
    "    M = [[0] * (len(s1)+1) for _ in range(len(s1)+1)]# 길이가 긴 문자열을 기준으로 2차원 리스트 초기\n",
    "    long = len(s1)\n",
    "    short = len(s2)        \n",
    "    for i in range(long+1):\n",
    "        M[i][0] = i\n",
    "    for j in range(short+1):\n",
    "        M[0][j] = j\n",
    "    for i in range(1, long+1):\n",
    "        for j in range(1, short+1):\n",
    "            if s1[i-1] == s2[j-1]:\n",
    "                M[i][j] = M[i-1][j-1]\n",
    "            else:\n",
    "                M[i][j] = min(M[i-1][j], M[i-1][j-1], M[i][j-1]) + 1\n",
    "    return M, M[long][short] "
   ]
  },
  {
   "cell_type": "markdown",
   "id": "acb8f58c",
   "metadata": {},
   "source": [
    "### 2) 문자열 바꾸는 과정(삽입, 삭제, 변경)을 출력하는 함수"
   ]
  },
  {
   "cell_type": "code",
   "execution_count": 266,
   "id": "fc32f7bd",
   "metadata": {},
   "outputs": [],
   "source": [
    "def getTrace(m, s1, s2):\n",
    "    print(\"[\", s2, \"을(를)\", s1, \"로 바꾸는 과정 ]\")\n",
    "    i, j = len(s1) - 1, len(s2) - 1\n",
    "    while not(i == 0 and j ==0):\n",
    "        s = min(m[i-1][j], m[i-1][j-1], m[i][j-1])\n",
    "        if s == m[i][j]:\n",
    "            i -= 1\n",
    "            j -= 1\n",
    "        elif s == m[i][j-1]:\n",
    "            print(s1[i-1] + \"을(를) 삭제\")\n",
    "            j -= 1\n",
    "        elif s == m[i-1][j-1]:\n",
    "            print(s2[j-1] + \"을(를) \" +s1[i-1]  + \"(으)로 변경\")\n",
    "            i -= 1\n",
    "            j -= 1\n",
    "        else:\n",
    "            print(s1[i] + \"을(를) 추가\")\n",
    "            i -= 1"
   ]
  },
  {
   "cell_type": "markdown",
   "id": "9abe0ec8",
   "metadata": {},
   "source": [
    "## edit distance 구하는 예시"
   ]
  },
  {
   "cell_type": "code",
   "execution_count": 289,
   "id": "79f01766",
   "metadata": {},
   "outputs": [
    {
     "name": "stdout",
     "output_type": "stream",
     "text": [
      "dadrt 와(과) caert 의 최소 편집 거리는 2 이다.\n",
      "\n",
      "[ dadrt 을(를) caert 로 바꾸는 과정 ]\n",
      "d을(를) e(으)로 변경\n",
      "d을(를) c(으)로 변경\n"
     ]
    }
   ],
   "source": [
    "# 비교할 문자열 s1, s2\n",
    "s1=\"caert\"\n",
    "s2=\"dadrt\"\n",
    "s1, s2 = compareLength(s1, s2) #문자열의 길이를 비교해서 s1에 긴문자열, s2에 짧은 문자열을 넣는다.\n",
    "\n",
    "M, edit_distance = getDistanceList(s1, s2) # list, 편집거리 \n",
    "\n",
    "print(s2, \"와(과)\", s1, \"의 최소 편집 거리는\", edit_distance , \"이다.\", end=\"\\n\\n\")\n",
    "getTrace(M, s1, s2) # 문자열 바꾸는 과정 출력"
   ]
  },
  {
   "cell_type": "markdown",
   "id": "3a1ab664",
   "metadata": {},
   "source": [
    "&nbsp;&nbsp; **(1) spell checker의 단어 후보 들을 edit distance가 작은 순서로 정렬 (일치하는 단어가 없을 경우를 대비해)<br>**\n",
    "만약  spell checker에서 오타가 발견되면 문장을 masked lm에 넣어 spell checker에서 나온 단어 후보들을 찾아 score 값이 어떻게 되는지 확인해 가장 확률이 높은 것을 반환해 오타를 교정하고 문장을 완성시킨다."
   ]
  },
  {
   "cell_type": "code",
   "execution_count": 383,
   "id": "05662af0",
   "metadata": {},
   "outputs": [
    {
     "data": {
      "text/plain": [
       "\"i'm [MASK] for a glass of waeter.\""
      ]
     },
     "execution_count": 383,
     "metadata": {},
     "output_type": "execute_result"
    }
   ],
   "source": []
  },
  {
   "cell_type": "code",
   "execution_count": null,
   "id": "4754a483",
   "metadata": {},
   "outputs": [],
   "source": [
    "spell checker에서 오타가 발견된 경우"
   ]
  },
  {
   "cell_type": "code",
   "execution_count": 406,
   "id": "c7341b03",
   "metadata": {},
   "outputs": [
    {
     "name": "stdout",
     "output_type": "stream",
     "text": [
      "index number: 6 \n",
      "masked sentence: i'm dying for a glass of [MASK]. \n",
      "original token: waeter\n"
     ]
    }
   ],
   "source": [
    "if len(miss_index) > 0:\n",
    "    for num in miss_index:\n",
    "        masked_sentence = text_list[num]\n",
    "        original_token = text_split[num]\n",
    "        print(\"index number:\",num,\"\\nmasked sentence:\", masked_sentence, \"\\noriginal token:\", original_token)"
   ]
  },
  {
   "cell_type": "code",
   "execution_count": 407,
   "id": "f47a0578",
   "metadata": {},
   "outputs": [
    {
     "data": {
      "text/plain": [
       "['water', 'waiter', 'wheter', 'walter', 'waster']"
      ]
     },
     "execution_count": 407,
     "metadata": {},
     "output_type": "execute_result"
    }
   ],
   "source": [
    "search_candidate = candidate.get(original_token)\n",
    "candidate.get(original_token)"
   ]
  },
  {
   "cell_type": "code",
   "execution_count": 408,
   "id": "53d09d6a",
   "metadata": {},
   "outputs": [],
   "source": [
    "fill = unmasker(masked_sentence, original_token = original_token, top_k=30000)#\"[MASK] man worked as a carpenter.\""
   ]
  },
  {
   "cell_type": "code",
   "execution_count": 409,
   "id": "fd4d0736",
   "metadata": {},
   "outputs": [
    {
     "name": "stdout",
     "output_type": "stream",
     "text": [
      "{'sequence': \"i'm dying for a glass of water.\", 'score': 0.3716032803058624, 'token': 2300, 'token_str': 'water', 'original_token': 'b'}\n",
      "{'sequence': \"i'm dying for a glass of waiter.\", 'score': 9.63665002018388e-07, 'token': 15610, 'token_str': 'waiter', 'original_token': 'b'}\n",
      "{'sequence': \"i'm dying for a glass of walter.\", 'score': 4.146808763039189e-08, 'token': 4787, 'token_str': 'walter', 'original_token': 'b'}\n"
     ]
    }
   ],
   "source": [
    "result1 = []\n",
    "\n",
    "for i in search_candidate:\n",
    "    find = i\n",
    "    for j in range(len(fill)):\n",
    "        if find == fill[j].get('token_str'):\n",
    "            print(fill[j])\n",
    "            result1.append(fill[j])"
   ]
  },
  {
   "cell_type": "markdown",
   "id": "f080a775",
   "metadata": {},
   "source": [
    "### spell checker에서 나온 단어 후보들을 찾고 score를 기준으로 내림차순으로 정렬한 결과"
   ]
  },
  {
   "cell_type": "code",
   "execution_count": 410,
   "id": "8395958d",
   "metadata": {},
   "outputs": [
    {
     "data": {
      "text/plain": [
       "[{'sequence': \"i'm dying for a glass of water.\",\n",
       "  'score': 0.3716032803058624,\n",
       "  'token': 2300,\n",
       "  'token_str': 'water',\n",
       "  'original_token': 'b'},\n",
       " {'sequence': \"i'm dying for a glass of waiter.\",\n",
       "  'score': 9.63665002018388e-07,\n",
       "  'token': 15610,\n",
       "  'token_str': 'waiter',\n",
       "  'original_token': 'b'},\n",
       " {'sequence': \"i'm dying for a glass of walter.\",\n",
       "  'score': 4.146808763039189e-08,\n",
       "  'token': 4787,\n",
       "  'token_str': 'walter',\n",
       "  'original_token': 'b'}]"
      ]
     },
     "execution_count": 410,
     "metadata": {},
     "output_type": "execute_result"
    }
   ],
   "source": [
    "result1 = sorted(result1, key = lambda x:-x['score'])\n",
    "result1"
   ]
  },
  {
   "cell_type": "code",
   "execution_count": 411,
   "id": "f98f43a9",
   "metadata": {},
   "outputs": [
    {
     "name": "stdout",
     "output_type": "stream",
     "text": [
      "score가 가장 높은 단어: water\n"
     ]
    }
   ],
   "source": [
    "print('score가 가장 높은 단어:',result1[0]['token_str'])"
   ]
  },
  {
   "cell_type": "markdown",
   "id": "7457d8a4",
   "metadata": {},
   "source": [
    "&nbsp;&nbsp; **(2) masked language model의 결과에서 input word와 edit distance기준 오름차순 정렬 후 score 기준 내림차순 정렬한다.**"
   ]
  },
  {
   "cell_type": "code",
   "execution_count": 412,
   "id": "fed10d1e",
   "metadata": {},
   "outputs": [],
   "source": [
    "for i in range(len(fill)):\n",
    "    s1 = fill[i].get('token_str')\n",
    "    s2 = original_token\n",
    "    s1, s2 = compareLength(s1, s2) #문자열의 길이를 비교해서 s1에 긴문자열, s2에 짧은 문자열을 넣는다.\n",
    "    \n",
    "    M, edit_distance = getDistanceList(s1, s2)\n",
    "    #print(s2, \"와(과)\", s1, \"의 최소 편집 거리는\", edit_distance , \"이다.\", end=\"\\n\\n\")\n",
    "    fill[i]['distance'] = edit_distance"
   ]
  },
  {
   "cell_type": "code",
   "execution_count": 413,
   "id": "67b1f4d3",
   "metadata": {},
   "outputs": [
    {
     "data": {
      "text/plain": [
       "[{'sequence': \"i'm dying for a glass of water.\",\n",
       "  'score': 0.3716032803058624,\n",
       "  'token': 2300,\n",
       "  'token_str': 'water',\n",
       "  'original_token': 'b',\n",
       "  'distance': 1},\n",
       " {'sequence': \"i'm dying for a glass of waiter.\",\n",
       "  'score': 9.63665002018388e-07,\n",
       "  'token': 15610,\n",
       "  'token_str': 'waiter',\n",
       "  'original_token': 'b',\n",
       "  'distance': 1},\n",
       " {'sequence': \"i'm dying for a glass of walter.\",\n",
       "  'score': 4.146808763039189e-08,\n",
       "  'token': 4787,\n",
       "  'token_str': 'walter',\n",
       "  'original_token': 'b',\n",
       "  'distance': 1},\n",
       " {'sequence': \"i'm dying for a glass of waters.\",\n",
       "  'score': 0.00033020376577042043,\n",
       "  'token': 5380,\n",
       "  'token_str': 'waters',\n",
       "  'original_token': 'b',\n",
       "  'distance': 2},\n",
       " {'sequence': \"i'm dying for a glass of carter.\",\n",
       "  'score': 8.151549081958365e-06,\n",
       "  'token': 5708,\n",
       "  'token_str': 'carter',\n",
       "  'original_token': 'b',\n",
       "  'distance': 2}]"
      ]
     },
     "execution_count": 413,
     "metadata": {},
     "output_type": "execute_result"
    }
   ],
   "source": [
    "result2 = sorted(fill, key = lambda x:(x['distance'],-x['score']))\n",
    "result2[:5]"
   ]
  },
  {
   "cell_type": "code",
   "execution_count": 414,
   "id": "e3634dd2",
   "metadata": {},
   "outputs": [
    {
     "name": "stdout",
     "output_type": "stream",
     "text": [
      "score가 가장 높은 단어: water\n"
     ]
    }
   ],
   "source": [
    "print('score가 가장 높은 단어:',result2[0]['token_str'])"
   ]
  },
  {
   "cell_type": "markdown",
   "id": "baa6e749",
   "metadata": {},
   "source": [
    "## To Do\n",
    "### 1. 정확도 측정: 음성인식결과로 돌려보기\n",
    "#### 1) deep speech에 음성 데이터 셋을 넣은 결과와 그 결과를 '이 코드'를 돌려서 차이 비교하기\n",
    "- 결과를 코드에 어떻게 돌려서 score를 측정할 것인지 고민\n",
    "\n",
    "#### 2) 유튜브에서 음성 가져오기\n",
    "- 유튜브 음성 가져와서 텍스트로 변환하는 작업 어떻게 할지\n",
    "   - 기존 자막 서비스 이용해서 텍스트로 추출\n",
    "   - 추출한 텍스트를 '이 코드' 돌리고 차이가 있는지 비교\n",
    "\n",
    "### 2. 리팩토링 & 연결\n",
    "\n",
    "\n"
   ]
  },
  {
   "cell_type": "code",
   "execution_count": null,
   "id": "06c58fff",
   "metadata": {},
   "outputs": [],
   "source": []
  }
 ],
 "metadata": {
  "kernelspec": {
   "display_name": "Python 3",
   "language": "python",
   "name": "python3"
  },
  "language_info": {
   "codemirror_mode": {
    "name": "ipython",
    "version": 3
   },
   "file_extension": ".py",
   "mimetype": "text/x-python",
   "name": "python",
   "nbconvert_exporter": "python",
   "pygments_lexer": "ipython3",
   "version": "3.8.8"
  }
 },
 "nbformat": 4,
 "nbformat_minor": 5
}
