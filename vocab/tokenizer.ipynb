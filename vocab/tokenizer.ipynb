{
 "cells": [
  {
   "cell_type": "markdown",
   "metadata": {
    "id": "cxsyY8pZLzc3"
   },
   "source": [
    "# Env"
   ]
  },
  {
   "cell_type": "code",
   "execution_count": 7,
   "metadata": {
    "executionInfo": {
     "elapsed": 560,
     "status": "ok",
     "timestamp": 1616475508929,
     "user": {
      "displayName": "현청천",
      "photoUrl": "https://lh3.googleusercontent.com/a-/AOh14GingwsOzB_fFlwKa3Z4CH1TlVnyWMq-xfwt25iMhS0=s64",
      "userId": "02662570985009482782"
     },
     "user_tz": -540
    },
    "id": "Smf88lfWLrtG"
   },
   "outputs": [],
   "source": [
    "import argparse\n",
    "import collections\n",
    "import os\n",
    "import random\n",
    "import re\n",
    "import shutil\n",
    "import zipfile\n",
    "\n",
    "import matplotlib.pyplot as plt\n",
    "import numpy as np\n",
    "import torch"
   ]
  },
  {
   "cell_type": "code",
   "execution_count": 8,
   "metadata": {
    "executionInfo": {
     "elapsed": 22943,
     "status": "ok",
     "timestamp": 1616468525147,
     "user": {
      "displayName": "현청천",
      "photoUrl": "https://lh3.googleusercontent.com/a-/AOh14GingwsOzB_fFlwKa3Z4CH1TlVnyWMq-xfwt25iMhS0=s64",
      "userId": "02662570985009482782"
     },
     "user_tz": -540
    },
    "id": "n2PFiuFhJwDQ"
   },
   "outputs": [],
   "source": [
    "# enwiki file 경로저장\n",
    "enwiki_file = \"/home/tako/youngmi/errordetection/data/enwiki.txt\""
   ]
  },
  {
   "cell_type": "code",
   "execution_count": 9,
   "metadata": {
    "colab": {
     "base_uri": "https://localhost:8080/"
    },
    "executionInfo": {
     "elapsed": 22941,
     "status": "ok",
     "timestamp": 1616468525148,
     "user": {
      "displayName": "현청천",
      "photoUrl": "https://lh3.googleusercontent.com/a-/AOh14GingwsOzB_fFlwKa3Z4CH1TlVnyWMq-xfwt25iMhS0=s64",
      "userId": "02662570985009482782"
     },
     "user_tz": -540
    },
    "id": "ITwgwofw5mfH",
    "outputId": "730627ac-d88d-464f-9b4d-7bf0756bddd0"
   },
   "outputs": [
    {
     "name": "stdout",
     "output_type": "stream",
     "text": [
      "Namespace(corpus='/home/tako/youngmi/errordetection/data/enwiki.txt', device=device(type='cuda'), seed=1234)\n"
     ]
    }
   ],
   "source": [
    "# 환경 설정\n",
    "args = {\n",
    "    \"seed\": 1234,    # random seed value\n",
    "    \"device\": torch.device(\"cuda\"),\n",
    "    \"corpus\": enwiki_file,    # 말뭉치 파일\n",
    "}\n",
    "args = argparse.Namespace(**args)\n",
    "print(args)"
   ]
  },
  {
   "cell_type": "code",
   "execution_count": 10,
   "metadata": {
    "executionInfo": {
     "elapsed": 22938,
     "status": "ok",
     "timestamp": 1616468525148,
     "user": {
      "displayName": "현청천",
      "photoUrl": "https://lh3.googleusercontent.com/a-/AOh14GingwsOzB_fFlwKa3Z4CH1TlVnyWMq-xfwt25iMhS0=s64",
      "userId": "02662570985009482782"
     },
     "user_tz": -540
    },
    "id": "WT-r7T0-Lx3k"
   },
   "outputs": [],
   "source": [
    "# random seed 설정\n",
    "random.seed(args.seed)\n",
    "np.random.seed(args.seed)\n",
    "torch.manual_seed(args.seed)\n",
    "torch.cuda.manual_seed_all(args.seed)"
   ]
  },
  {
   "cell_type": "markdown",
   "metadata": {
    "id": "Q0uHvRbvLVyk"
   },
   "source": [
    "# 파일확인"
   ]
  },
  {
   "cell_type": "code",
   "execution_count": 11,
   "metadata": {
    "colab": {
     "base_uri": "https://localhost:8080/"
    },
    "executionInfo": {
     "elapsed": 16573,
     "status": "ok",
     "timestamp": 1616468541726,
     "user": {
      "displayName": "현청천",
      "photoUrl": "https://lh3.googleusercontent.com/a-/AOh14GingwsOzB_fFlwKa3Z4CH1TlVnyWMq-xfwt25iMhS0=s64",
      "userId": "02662570985009482782"
     },
     "user_tz": -540
    },
    "id": "oBIIu_Vxpfe9",
    "outputId": "ddac742a-052f-42ac-b434-3719f650a9c3"
   },
   "outputs": [
    {
     "name": "stdout",
     "output_type": "stream",
     "text": [
      "66467178\n"
     ]
    }
   ],
   "source": [
    "# wiki 라인수 확인\n",
    "count = 0\n",
    "f = open(enwiki_file)\n",
    "for i, line in enumerate(f):\n",
    "    count += 1\n",
    "print(count)"
   ]
  },
  {
   "cell_type": "code",
   "execution_count": 12,
   "metadata": {
    "colab": {
     "base_uri": "https://localhost:8080/"
    },
    "executionInfo": {
     "elapsed": 16569,
     "status": "ok",
     "timestamp": 1616468541726,
     "user": {
      "displayName": "현청천",
      "photoUrl": "https://lh3.googleusercontent.com/a-/AOh14GingwsOzB_fFlwKa3Z4CH1TlVnyWMq-xfwt25iMhS0=s64",
      "userId": "02662570985009482782"
     },
     "user_tz": -540
    },
    "id": "MpGJcCPyRxHL",
    "outputId": "775a247b-3d8e-434f-904e-0ce8b653b155"
   },
   "outputs": [
    {
     "name": "stdout",
     "output_type": "stream",
     "text": [
      "\n",
      "Anarchism\n",
      "Anarchism is a political philosophy and movement that is sceptical of authority and rejects all involuntary, coercive forms of hierarchy. Anarchism calls for the abolition of the state, which it holds to be undesirable, unnecessary, and harmful. It is usually described alongside libertarian Marxism as the libertarian wing (libertarian socialism) of the socialist movement and as having a historical association with anti-capitalism and socialism.\n",
      "The history of anarchy goes back to prehistory, when humans arguably lived in anarchic societies long before the establishment of formal states, realms or empires. With the rise of organised hierarchical bodies, scepticism toward authority also rose, but it was not until the 19th century that a self-conscious political movement emerged. During the latter half of the 19th and the first decades of the 20th century, the anarchist movement flourished in most parts of the world and had a significant role in workers' struggles for emancipation. Various anarchist schools of thought formed during this period. Anarchists have taken part in several revolutions, most notably in the Spanish Civil War, whose end marked the end of the classical era of anarchism. In the last decades of the 20th and into the 21st century, the anarchist movement has been resurgent once more.\n",
      "Anarchism employs a diversity of tactics in order to meet its ideal ends which can be broadly separated into revolutionary and evolutionary tactics. There is significant overlap between the two which are merely descriptive. Revolutionary tactics aim to bring down authority and state, having taken a violent turn in the past. Evolutionary tactics aim to prefigure what an anarchist society would be like. Anarchist thought, criticism and praxis have played a part in diverse areas of human society. Criticisms of anarchism include claims that it is internally inconsistent, violent, or utopian.\n",
      "Etymology, terminology and definition.\n",
      "The etymological origin of \"anarchism\" is from the Ancient Greek \"anarkhia\", meaning \"without a ruler\", composed of the prefix \"an-\" (i.e. \"without\") and the word \"arkhos\" (i.e. \"leader\" or \"ruler\"). The suffix \"-ism\" denotes the ideological current that favours anarchy. \"Anarchism\" appears in English from 1642 as \"anarchisme\" and \"anarchy\" from 1539; early English usages emphasised a sense of disorder. Various factions within the French Revolution labelled their opponents as \"anarchists\", although few such accused shared many views with later anarchists. Many revolutionaries of the 19th century such as William Godwin (1756–1836) and Wilhelm Weitling (1808–1871) would contribute to the anarchist doctrines of the next generation, but they did not use \"anarchist\" or \"anarchism\" in describing themselves or their beliefs.\n",
      "The first political philosopher to call himself an \"anarchist\" () was Pierre-Joseph Proudhon (1809–1865), marking the formal birth of anarchism in the mid-19th century. Since the 1890s and beginning in France, \"libertarianism\" has often been used as a synonym for anarchism and its use as a synonym is still common outside the United States. On the other hand, some use \"libertarianism\" to refer to individualistic free-market philosophy only, referring to free-market anarchism as \"libertarian anarchism\".\n",
      "While the term \"libertarian\" has been largely synonymous with anarchism, its meaning has more recently diluted with wider adoption from ideologically disparate groups, including both the New Left and libertarian Marxists (who do not associate themselves with authoritarian socialists or a vanguard party) as well as extreme liberals (primarily concerned with civil liberties). Additionally, some anarchists use \"libertarian socialist\" to avoid anarchism's negative connotations and emphasise its connections with socialism. Matthew S. Adams and Carl Levy write that \"anarchism\" is used to \"describe the anti-authoritarian wing of the socialist movement.\" Noam Chomsky describes anarchism, alongside libertarian Marxism, as \"the libertarian wing of socialism.\" Daniel Guérin wrote:\n",
      "narchism is really a synonym for socialism. The anarchist is primarily a socialist whose aim is to abolish the exploitation of man by man. Anarchism is only one of the streams of socialist thought, that stream whose main components are concern for liberty and haste to abolish the State.\n",
      "While opposition to the state is central to anarchist thought, defining anarchism is not an easy task as there is a lot of discussion among scholars and anarchists on the matter and various currents perceive anarchism slightly differently. Hence, it might be true to say that anarchism is a cluster of political philosophies opposing authority and hierarchical organisation (including capitalism, nationalism, the state and all associated institutions) in the conduct of all human relations in favour of a society based on decentralisation, freedom and voluntary association. However, this definition has the same shortcomings as the definition based on anti-authoritarianism (which is an \"a posteriori\" conclusion), anti-statism (anarchism is much more than that) and etymology (which is simply a negation of a ruler). Nonetheless, major elements of the definition of anarchism include the will for a non-coercive society, the rejection of the state apparatus, the belief that human nature allows humans to exist in or progress toward such a non-coercive society and a suggestion on how to act to pursue the ideal of anarchy.\n",
      "Herbert L. Osgood claimed that anarchism is \"the extreme antithesis\" of authoritarian communism and state socialism. Peter Marshall states that \"general anarchism is closer to socialism than liberalism. [... Anarchism finds itself largely in the socialist camp, but it also has outriders in liberalism. It cannot be reduced to socialism, and is best seen as a separate and distinctive doctrine.\" According to Jeremy Jennings, \"is hard not to conclude that these ideas\", referring to anarcho-capitalism, \"are described as anarchist only on the basis of a misunderstanding of what anarchism is.\" Jennings adds that \"anarchism does not stand for the untrammelled freedom of the individual (as the 'anarcho-capitalists' appear to believe) but, as we have already seen, for the extension of individuality and community.\" Nicolas Walter wrote that \"anarchism does derive from liberalism and socialism both historically and ideologically. [... In a sense, anarchists always remain liberals and socialists, and whenever they reject what is good in either they betray anarchism itself. [...] We are liberals but more so, and socialists but more so.\" Michael Newman includes anarchism as one of many socialist traditions, especially the more socialist-aligned tradition following Proudhon and Mikhail Bakunin. Brian Morriss argues that it is \"conceptually and historically misleading\" to \"create a dichotomy between socialism and anarchism.\"\n",
      "History.\n",
      "Pre-modern era.\n",
      "During the prehistoric era of mankind, an established authority did not exist. It was after the creation of towns and cities that institutions of authority were established and anarchistic ideas espoused as a reaction. The most notable precursors to anarchism in the ancient world were in China and Greece. In China, philosophical anarchism (i.e. the discussion on the legitimacy of the state) was delineated by Taoist philosophers Zhuang Zhou and Laozi. Alongside Stoicism, Taoism has been said to have had \"significant anticipations\" of anarchism.\n",
      "Anarchic attitudes were also articulated by tragedians and philosophers in Greece. Aeschylus and Sophocles used the myth of Antigone to illustrate the conflict between rules set by the state and personal autonomy. Socrates questioned Athenian authorities constantly and insisted on the right of individual freedom of conscience. Cynics dismissed human law (\"nomos\") and associated authorities while trying to live according to nature (\"physis\"). Stoics were supportive of a society based on unofficial and friendly relations among its citizens without the presence of a state.\n",
      "During the Middle Ages, there was no anarchistic activity except some ascetic religious movements in the Muslim world or in Christian Europe. This kind of tradition later gave birth to religious anarchism. In the Sasanian Empire, Mazdak called for an egalitarian society and the abolition of monarchy, only to be soon executed by Emperor Kavad I.\n",
      "In Basra, religious sects preached against the state. In Europe, various sects developed anti-state and libertarian tendencies. Libertarian ideas further emerged during the Renaissance with the spread of humanism, rationalism and reasoning through Europe. Novelists fictionalised ideal societies that were based on voluntarism rather than coercion. The Age of Enlightenment further pushed towards anarchism with the optimism for social progress.\n",
      "Modern era.\n",
      "During the French Revolution, partisan groups such as the Enragés and the saw a turning point in the fermentation of anti-state and federalist sentiments. The first anarchist currents developed throughout the 18th century as William Godwin espoused philosophical anarchism in England, morally delegitimising the state, Max Stirner's thinking paved the way to individualism and Pierre-Joseph Proudhon's theory of mutualism found fertile soil in France. By the late 1870s, various anarchist schools of thought had become well-defined and a wave of then unprecedented globalization occurred from 1880 to 1914. This era of classical anarchism lasted until the end of the Spanish Civil War and is considered the golden age of anarchism.\n",
      "Drawing from mutualism, Mikhail Bakunin founded collectivist anarchism and entered the International Workingmen's Association, a class worker union later known as the First International that formed in 1864 to unite diverse revolutionary currents. The International became a significant political force, with Karl Marx being a leading figure and a member of its General Council. Bakunin's faction (the Jura Federation) and Proudhon's followers (the mutualists) opposed state socialism, advocating political abstentionism and small property holdings. After bitter disputes, the Bakuninists were expelled from the International by the Marxists at the 1872 Hague Congress. Anarchists were treated similarly in the Second International, being ultimately expelled in 1896. Bakunin famously predicted that if revolutionaries gained power by Marx's terms, they would end up the new tyrants of workers. In response to their expulsion from the First International, anarchists formed the St. Imier International. Under the influence of Peter Kropotkin, a Russian philosopher and scientist, anarcho-communism overlapped with collectivism. Anarcho-communists, who drew inspiration from the 1871 Paris Commune, advocated for free federation and for the distribution of goods according to one's needs.\n",
      "At the turn of the century, anarchism had spread all over the world. It was a notable feature of the international syndicalism movement. In China, small groups of students imported the humanistic pro-science version of anarcho-communism. Tokyo was a hotspot for rebellious youth from countries of the far east, travelling to the Japanese capital to study. In Latin America, Argentina was a stronghold for anarcho-syndicalism, where it became the most prominent left-wing ideology. During this time, a minority of anarchists adopted tactics of revolutionary political violence. This strategy became known as propaganda of the deed. The dismemberment of the French socialist movement into many groups and the execution and exile of many Communards to penal colonies following the suppression of the Paris Commune favoured individualist political expression and acts. Even though many anarchists distanced themselves from these terrorist acts, infamy came upon the movement and attempts were made to exclude them from American immigration, including the Immigration Act of 1903, also called the Anarchist Exclusion Act. Illegalism was another strategy which some anarchists adopted during this period.\n",
      "Despite concerns, anarchists enthusiastically participated in the Russian Revolution in opposition to the White movement. However, they met harsh suppression after the Bolshevik government was stabilized. Several anarchists from Petrograd and Moscow fled to Ukraine, notably leading to the Kronstadt rebellion and Nestor Makhno's struggle in the Free Territory. With the anarchists being crushed in Russia, two new antithetical currents emerged, namely platformism and synthesis anarchism. The former sought to create a coherent group that would push for revolution while the latter were against anything that would resemble a political party. Seeing the victories of the Bolsheviks in the October Revolution and the resulting Russian Civil War, many workers and activists turned to communist parties which grew at the expense of anarchism and other socialist movements. In France and the United States, members of major syndicalist movements such as the General Confederation of Labour and the Industrial Workers of the World left their organisations and joined the Communist International.\n",
      "In the Spanish Civil War of 1936, anarchists and syndicalists (CNT and FAI) once again allied themselves with various currents of leftists. A long tradition of Spanish anarchism led to anarchists playing a pivotal role in the war. In response to the army rebellion, an anarchist-inspired movement of peasants and workers, supported by armed militias, took control of Barcelona and of large areas of rural Spain, where they collectivised the land. The Soviet Union provided some limited assistance at the beginning of the war, but the result was a bitter fight among communists and anarchists at a series of events named May Days as Joseph Stalin tried to seize control of the Republicans.\n",
      "Post-war era.\n",
      "At the end of World War II, the anarchist movement was severely weakened. However, the 1960s witnessed a revival of anarchism, likely caused by a perceived failure of Marxism–Leninism and tensions built by the Cold War. During this time, anarchism found a presence in other movements critical towards both capitalism and the state such as the anti-nuclear, environmental and peace movements, the counterculture of the 1960s and the New Left. It also saw a transition from its previous revolutionary nature to provocative anti-capitalist reformism. Anarchism became associated with punk subculture as exemplified by bands such as Crass and the Sex Pistols. The established feminist tendencies of anarcha-feminism returned with vigour during the second wave of feminism. Black anarchism began to take form at this time and influenced anarchism's move from a Eurocentric demographic. This coincided with its failure to gain traction in Northern Europe and its unprecedented height in Latin America.\n",
      "Around the turn of the 21st century, anarchism grew in popularity and influence within anti-capitalist, anti-war and anti-globalisation movements. Anarchists became known for their involvement in protests against the World Trade Organization (WTO), the Group of Eight and the World Economic Forum. During the protests, \"ad hoc\" leaderless anonymous cadres known as black blocs engaged in rioting, property destruction and violent confrontations with the police. Other organisational tactics pioneered in this time include affinity groups, security culture and the use of decentralised technologies such as the Internet. A significant event of this period was the confrontations at the 1999 Seattle WTO conference. Anarchist ideas have been influential in the development of the Zapatistas in Mexico and the Democratic Federation of Northern Syria, more commonly known as Rojava, a \"de facto\" autonomous region in northern Syria.\n",
      "Thought.\n",
      "Anarchist schools of thought have been generally grouped into two main historical traditions, social anarchism and individualist anarchism, owing to their different origins, values and evolution. The individualist current emphasises negative liberty in opposing restraints upon the free individual while the social current emphasises positive liberty in aiming to achieve the free potential of society through equality and social ownership. In a chronological sense, anarchism can be segmented by the classical currents of the late 19th century and the post-classical currents (anarcha-feminism, green anarchism and post-anarchism) developed thereafter.\n",
      "Beyond the specific factions of anarchist movements which constitute political anarchism lies philosophical anarchism which holds that the state lacks moral legitimacy, without necessarily accepting the imperative of revolution to eliminate it. A component especially of individualist anarchism, philosophical anarchism may tolerate the existence of a minimal state, but it argues that citizens have no moral obligation to obey government when it conflicts with individual autonomy. Anarchism pays significant attention to moral arguments since ethics have a central role in anarchist philosophy. Anarchism's emphasis on anti-capitalism, egalitarianism and for the extension of community and individuality sets it apart from anarcho-capitalism and other types of economic libertarianism.\n",
      "Anarchism is usually placed on the far-left of the political spectrum. Much of its economics and legal philosophy reflect anti-authoritarian, anti-statist, libertarian and radical interpretations of left-wing and socialist politics such as collectivism, communism, individualism, mutualism and syndicalism, among other libertarian socialist economic theories. As anarchism does not offer a fixed body of doctrine from a single particular worldview, many anarchist types and traditions exist and varieties of anarchy diverge widely. One reaction against sectarianism within the anarchist milieu was anarchism without adjectives, a call for toleration and unity among anarchists first adopted by Fernando Tarrida del Mármol in 1889 in response to the bitter debates of anarchist theory at the time. Belief in political nihilism has been espoused by anarchists. Despite separation, the various anarchist schools of thought are not seen as distinct entities, but rather as tendencies that intermingle and are connected through a set of uniform principles such as individual and local autonomy, mutual aid, network organisation, communal democracy, justified authority and decentralisation.\n",
      "Classical.\n",
      "Inceptive currents among classical anarchist currents were mutualism and individualism. They were followed by the major currents of social anarchism (collectivist, communist and syndicalist). They differ on organisational and economic aspects of their ideal society.\n",
      "Mutualism is an 18th-century economic theory that was developed into anarchist theory by Pierre-Joseph Proudhon. Its aims include reciprocity, free association, voluntary contract, federation and monetary reform of both credit and currency that would be regulated by a bank of the people. Mutualism has been retrospectively characterised as ideologically situated between individualist and collectivist forms of anarchism. In \"What Is Property?\" (1840), Proudhon first characterised his goal as a \"third form of society, the synthesis of communism and property.\" Collectivist anarchism is a revolutionary socialist form of anarchism commonly associated with Mikhail Bakunin. Collectivist anarchists advocate collective ownership of the means of production which is theorised to be achieved through violent revolution and that workers be paid according to time worked, rather than goods being distributed according to need as in communism. Collectivist anarchism arose alongside Marxism, but it rejected the dictatorship of the proletariat despite the stated Marxist goal of a collectivist stateless society.\n",
      "Anarcho-communism is a theory of anarchism that advocates a communist society with common ownership of the means of production, direct democracy and a horizontal network of voluntary associations, workers' councils and worker cooperatives, with production and consumption based on the guiding principle \"From each according to his ability, to each according to his need.\" Anarcho-communism developed from radical socialist currents after the French Revolution, but it was first formulated as such in the Italian section of the First International. It was later expanded upon in the theoretical work of Peter Kropotkin, whose specific style would go onto become the dominating view of anarchists by the late 19th century. Anarcho-syndicalism is a branch of anarchism that views labour syndicates as a potential force for revolutionary social change, replacing capitalism and the state with a new society democratically self-managed by workers. The basic principles of anarcho-syndicalism are direct action, workers' solidarity and workers' self-management.\n",
      "Individualist anarchism is a set of several traditions of thought within the anarchist movement that emphasise the individual and their will over any kinds of external determinants. Early influences on individualist forms of anarchism include William Godwin, Max Stirner and Henry David Thoreau. Through many countries, individualist anarchism attracted a small yet diverse following of Bohemian artists and intellectuals as well as young anarchist outlaws in what became known as illegalism and individual reclamation.\n",
      "Post-classical and contemporary.\n",
      "Anarchist principles undergird contemporary radical social movements of the left. Interest in the anarchist movement developed alongside momentum in the anti-globalisation movement, whose leading activist networks were anarchist in orientation. As the movement shaped 21st century radicalism, wider embrace of anarchist principles signaled a revival of interest. Anarchism has continued to generate many philosophies and movements, at times eclectic, drawing upon various sources and syncretic, combining disparate concepts to create new philosophical approaches. The anti-capitalist tradition of classical anarchism has remained prominent within contemporary currents.\n",
      "Contemporary news coverage which emphasizes black bloc demonstrations has reinforced anarchism's historical association with chaos and violence. However, its publicity has also led more scholars in fields such as anthropology and history to engage with the anarchist movement, although contemporary anarchism favours actions over academic theory. Various anarchist groups, tendencies and schools of thought exist today, making it difficult to describe the contemporary anarchist movement. While theorists and activists have established \"relatively stable constellations of anarchist principles\", there is no consensus on which principles are core and commentators describe multiple \"anarchisms\" (rather than a singular \"anarchism\") in which common principles are shared between schools of anarchism while each group prioritizes those principles differently. Gender equality can be a common principle, although it ranks as a higher priority to anarcha-feminists than anarcho-communists.\n",
      "Anarchists are generally committed against coercive authority in all forms, namely \"all centralized and hierarchical forms of government (e.g., monarchy, representative democracy, state socialism, etc.), economic class systems (e.g., capitalism, Bolshevism, feudalism, slavery, etc.), autocratic religions (e.g., fundamentalist Islam, Roman Catholicism, etc.), patriarchy, heterosexism, white supremacy, and imperialism.\" However, anarchist schools disagree on the methods by which these forms should be opposed. The principle of equal liberty is closer to anarchist political ethics in that it transcends both the liberal and socialist traditions. This entails that liberty and equality cannot be implemented within the state, resulting in the questioning of all forms of domination and hierarchy.\n",
      "Tactics.\n",
      "Anarchists' tactics take various forms, but in general, they serve two major goals, namely to first oppose the Establishment and secondly to promote anarchist ethics and reflect an anarchist vision of society, illustrating the unity of means and ends. A broad categorisation can be made between aims to destroy oppressive states and institutions by revolutionary means on one hand and aims to change society through evolutionary means on the other. Evolutionary tactics embrace nonviolence, reject violence and take a gradual approach to anarchist aims, although there is significant overlap between the two.\n",
      "Anarchist tactics have shifted during the course of the last century. Anarchists during the early 20th century focused more on strikes and militancy while contemporary anarchists use a broader array of approaches.\n",
      "Classical era tactics.\n",
      "During the classical era, anarchists had a militant tendency. Not only did they confront state armed forces, as in Spain and Ukraine, but some of them also employed terrorism as propaganda of the deed. Assassination attempts were carried out against heads of state, some of which were successful. Anarchists also took part in revolutions. Many anarchists, especially the Galleanists, believed that these attempts would be the impetus for a revolution against capitalism and the state. Many of these attacks were done by individual assailants and the majority took place in the late 1870s, the early 1880s and the 1890s, with some still occurring in the early 1900s. Their decrease in prevalence was the result of further judicial power and targeting and cataloging by state institutions.\n",
      "Anarchist perspectives towards violence have always been perplexing and controversial. On one hand, anarcho-pacifists point out the unity of means and ends. On the other hand, other anarchist groups advocate direct action, a tactic which can include acts of sabotage or even acts of terrorism. This attitude was quite prominent a century ago when seeing the state as a tyrant and some anarchists believing that they had every right to oppose its oppression by any means possible. Emma Goldman and Errico Malatesta, who were proponents of limited use of violence, argued that violence is merely a reaction to state violence as a necessary evil.\n",
      "Anarchists took an active role in strike actions, although they tended to be antipathetic to formal syndicalism, seeing it as reformist. They saw it as a part of the movement which sought to overthrow the state and capitalism. Anarchists also reinforced their propaganda within the arts, some of whom practiced naturism and nudism. Those anarchists also built communities which were based on friendship and were involved in the news media.\n",
      "Revolutionary tactics.\n",
      "In the current era, Italian anarchist Alfredo Bonanno, a proponent of insurrectionary anarchism, has reinstated the debate on violence by rejecting the nonviolence tactic adopted since the late 19th century by Kropotkin and other prominent anarchists afterwards. Both Bonanno and the French group The Invisible Committee advocate for small, informal affiliation groups, where each member is responsible for their own actions but works together to bring down oppression utilizing sabotage and other violent means against state, capitalism and other enemies. Members of The Invisible Committee were arrested in 2008 on various charges, terrorism included.\n",
      "Overall, contemporary anarchists are much less violent and militant than their ideological ancestors. They mostly engage in confronting the police during demonstrations and riots, especially in countries such as Canada, Greece and Mexico. Militant black bloc protest groups are known for clashing with the police. However, anarchists not only clash with state operators; they also engage in the struggle against fascists and racists, taking anti-fascist action and mobilizing to prevent hate rallies from happening.\n"
     ]
    }
   ],
   "source": [
    "# wiki 내용 확인\n",
    "f = open(enwiki_file)\n",
    "for i, line in enumerate(f):\n",
    "    if i >= 50:\n",
    "        break\n",
    "    line = line.strip()\n",
    "    print(line)"
   ]
  },
  {
   "cell_type": "markdown",
   "metadata": {
    "id": "H6Pgz60edJFa"
   },
   "source": [
    "# Char Tokenizer"
   ]
  },
  {
   "cell_type": "code",
   "execution_count": 36,
   "metadata": {
    "id": "hNQVXMdfLm6u"
   },
   "outputs": [
    {
     "ename": "KeyboardInterrupt",
     "evalue": "",
     "output_type": "error",
     "traceback": [
      "\u001b[0;31m---------------------------------------------------------------------------\u001b[0m",
      "\u001b[0;31mKeyboardInterrupt\u001b[0m                         Traceback (most recent call last)",
      "\u001b[0;32m<ipython-input-36-2aaea4c9d7bd>\u001b[0m in \u001b[0;36m<module>\u001b[0;34m\u001b[0m\n\u001b[1;32m      5\u001b[0m     \u001b[0mline\u001b[0m \u001b[0;34m=\u001b[0m \u001b[0mline\u001b[0m\u001b[0;34m.\u001b[0m\u001b[0mstrip\u001b[0m\u001b[0;34m(\u001b[0m\u001b[0;34m)\u001b[0m\u001b[0;34m\u001b[0m\u001b[0;34m\u001b[0m\u001b[0m\n\u001b[1;32m      6\u001b[0m     \u001b[0;32mfor\u001b[0m \u001b[0mc\u001b[0m \u001b[0;32min\u001b[0m \u001b[0mline\u001b[0m\u001b[0;34m:\u001b[0m\u001b[0;34m\u001b[0m\u001b[0;34m\u001b[0m\u001b[0m\n\u001b[0;32m----> 7\u001b[0;31m         \u001b[0mchar_counter\u001b[0m\u001b[0;34m[\u001b[0m\u001b[0mc\u001b[0m\u001b[0;34m]\u001b[0m \u001b[0;34m+=\u001b[0m \u001b[0;36m1\u001b[0m\u001b[0;34m\u001b[0m\u001b[0;34m\u001b[0m\u001b[0m\n\u001b[0m",
      "\u001b[0;31mKeyboardInterrupt\u001b[0m: "
     ]
    }
   ],
   "source": [
    "char_counter = collections.defaultdict(int)\n",
    "# char 개수 확인\n",
    "f = open(enwiki_file)\n",
    "for i, line in enumerate(f):\n",
    "    line = line.strip()\n",
    "    for c in line:\n",
    "        char_counter[c] += 1"
   ]
  },
  {
   "cell_type": "code",
   "execution_count": 37,
   "metadata": {
    "colab": {
     "base_uri": "https://localhost:8080/"
    },
    "executionInfo": {
     "elapsed": 88019,
     "status": "ok",
     "timestamp": 1616156977252,
     "user": {
      "displayName": "현청천",
      "photoUrl": "https://lh3.googleusercontent.com/a-/AOh14GingwsOzB_fFlwKa3Z4CH1TlVnyWMq-xfwt25iMhS0=s64",
      "userId": "02662570985009482782"
     },
     "user_tz": -540
    },
    "id": "G-_vu7t9dbEf",
    "outputId": "de74c0ab-8244-4ccc-c036-3eab80146855"
   },
   "outputs": [
    {
     "name": "stdout",
     "output_type": "stream",
     "text": [
      "20283\n"
     ]
    }
   ],
   "source": [
    "# char 개수\n",
    "print(len(char_counter))"
   ]
  },
  {
   "cell_type": "code",
   "execution_count": 38,
   "metadata": {
    "colab": {
     "base_uri": "https://localhost:8080/"
    },
    "executionInfo": {
     "elapsed": 88015,
     "status": "ok",
     "timestamp": 1616156977253,
     "user": {
      "displayName": "현청천",
      "photoUrl": "https://lh3.googleusercontent.com/a-/AOh14GingwsOzB_fFlwKa3Z4CH1TlVnyWMq-xfwt25iMhS0=s64",
      "userId": "02662570985009482782"
     },
     "user_tz": -540
    },
    "id": "X4Tlc7vmeFiu",
    "outputId": "540d21de-35b5-48be-f3b8-4baf853f0722"
   },
   "outputs": [
    {
     "name": "stdout",
     "output_type": "stream",
     "text": [
      "[(' ', 1150262080), ('e', 682867213), ('a', 484240208), ('t', 477459004), ('i', 449131995), ('o', 420596357), ('n', 420593530), ('r', 382364324), ('s', 354565582), ('h', 257957230)]\n",
      "[('≽', 1), ('҅', 1), ('ᴥ', 1), ('ƥ', 1), ('Ẇ', 1), ('˭', 1), ('𨁂', 1), ('⊉', 1), ('⤖', 1), ('🚲', 1)]\n"
     ]
    }
   ],
   "source": [
    "most_freq = sorted(char_counter.items(), key=lambda item: item[1], reverse=True)# 빈도수가 많은 글자 10개 출력\n",
    "least_freq = sorted(char_counter.items(), key=lambda item: item[1]) # 빈도수가 적은 글자 10개 출력\n",
    "\n",
    "print(most_freq[:10])\n",
    "print(least_freq[:10])"
   ]
  },
  {
   "cell_type": "code",
   "execution_count": 39,
   "metadata": {
    "colab": {
     "base_uri": "https://localhost:8080/"
    },
    "executionInfo": {
     "elapsed": 88007,
     "status": "ok",
     "timestamp": 1616156977254,
     "user": {
      "displayName": "현청천",
      "photoUrl": "https://lh3.googleusercontent.com/a-/AOh14GingwsOzB_fFlwKa3Z4CH1TlVnyWMq-xfwt25iMhS0=s64",
      "userId": "02662570985009482782"
     },
     "user_tz": -540
    },
    "id": "4YZaTjQBrnrB",
    "outputId": "44282734-d1ca-4654-a7ce-06c5cba6c650"
   },
   "outputs": [
    {
     "name": "stdout",
     "output_type": "stream",
     "text": [
      "7556946145\n"
     ]
    }
   ],
   "source": [
    "# token 개수\n",
    "count = 0\n",
    "for c, cnt in char_counter.items():\n",
    "    count += cnt\n",
    "print(count)"
   ]
  },
  {
   "cell_type": "code",
   "execution_count": 40,
   "metadata": {
    "colab": {
     "base_uri": "https://localhost:8080/"
    },
    "executionInfo": {
     "elapsed": 88003,
     "status": "ok",
     "timestamp": 1616156977254,
     "user": {
      "displayName": "현청천",
      "photoUrl": "https://lh3.googleusercontent.com/a-/AOh14GingwsOzB_fFlwKa3Z4CH1TlVnyWMq-xfwt25iMhS0=s64",
      "userId": "02662570985009482782"
     },
     "user_tz": -540
    },
    "id": "WF-DECb7tNDJ",
    "outputId": "4f812aaf-5916-464d-e53e-a4914b2e0a29"
   },
   "outputs": [
    {
     "name": "stdout",
     "output_type": "stream",
     "text": [
      "20285\n"
     ]
    }
   ],
   "source": [
    "# char에 일련번호 부여\n",
    "char_to_id = {'[PAD]': 0, '[UNK]': 1}\n",
    "for c, cnt in char_counter.items():\n",
    "    char_to_id[c] = len(char_to_id)\n",
    "print(len(char_to_id))"
   ]
  },
  {
   "cell_type": "code",
   "execution_count": null,
   "metadata": {
    "colab": {
     "base_uri": "https://localhost:8080/"
    },
    "executionInfo": {
     "elapsed": 87997,
     "status": "ok",
     "timestamp": 1616156977254,
     "user": {
      "displayName": "현청천",
      "photoUrl": "https://lh3.googleusercontent.com/a-/AOh14GingwsOzB_fFlwKa3Z4CH1TlVnyWMq-xfwt25iMhS0=s64",
      "userId": "02662570985009482782"
     },
     "user_tz": -540
    },
    "id": "s9pMS-hmu0nP",
    "outputId": "e9c1f279-8456-4071-bf75-f3376d5188b2"
   },
   "outputs": [],
   "source": [
    "# wiki char tokenize\n",
    "f = open(enwiki_file)\n",
    "for i, line in enumerate(f):\n",
    "    if i >= 5:\n",
    "        break\n",
    "    line = line.strip()\n",
    "    print(line)\n",
    "    _id = [char_to_id[c] for c in line]\n",
    "    print(_id)"
   ]
  },
  {
   "cell_type": "markdown",
   "metadata": {
    "id": "Ih5DGiE2tAoG"
   },
   "source": [
    "# Word Tokenizer"
   ]
  },
  {
   "cell_type": "code",
   "execution_count": 14,
   "metadata": {
    "id": "M3UXD2SLsfvf"
   },
   "outputs": [
    {
     "ename": "KeyboardInterrupt",
     "evalue": "",
     "output_type": "error",
     "traceback": [
      "\u001b[0;31m---------------------------------------------------------------------------\u001b[0m",
      "\u001b[0;31mKeyboardInterrupt\u001b[0m                         Traceback (most recent call last)",
      "\u001b[0;32m<ipython-input-14-eb1f1c62120b>\u001b[0m in \u001b[0;36m<module>\u001b[0;34m\u001b[0m\n\u001b[1;32m      5\u001b[0m     \u001b[0mline\u001b[0m \u001b[0;34m=\u001b[0m \u001b[0mline\u001b[0m\u001b[0;34m.\u001b[0m\u001b[0mstrip\u001b[0m\u001b[0;34m(\u001b[0m\u001b[0;34m)\u001b[0m\u001b[0;34m\u001b[0m\u001b[0;34m\u001b[0m\u001b[0m\n\u001b[1;32m      6\u001b[0m     \u001b[0;32mfor\u001b[0m \u001b[0mw\u001b[0m \u001b[0;32min\u001b[0m \u001b[0mline\u001b[0m\u001b[0;34m.\u001b[0m\u001b[0msplit\u001b[0m\u001b[0;34m(\u001b[0m\u001b[0;34m)\u001b[0m\u001b[0;34m:\u001b[0m\u001b[0;34m\u001b[0m\u001b[0;34m\u001b[0m\u001b[0m\n\u001b[0;32m----> 7\u001b[0;31m         \u001b[0mword_counter\u001b[0m\u001b[0;34m[\u001b[0m\u001b[0mw\u001b[0m\u001b[0;34m]\u001b[0m \u001b[0;34m+=\u001b[0m \u001b[0;36m1\u001b[0m\u001b[0;34m\u001b[0m\u001b[0;34m\u001b[0m\u001b[0m\n\u001b[0m",
      "\u001b[0;31mKeyboardInterrupt\u001b[0m: "
     ]
    }
   ],
   "source": [
    "word_counter = collections.defaultdict(int)\n",
    "# word 개수 확인\n",
    "f = open(enwiki_file)\n",
    "for i, line in enumerate(f):\n",
    "    line = line.strip()\n",
    "    for w in line.split():\n",
    "        word_counter[w] += 1"
   ]
  },
  {
   "cell_type": "code",
   "execution_count": 42,
   "metadata": {},
   "outputs": [
    {
     "name": "stdout",
     "output_type": "stream",
     "text": [
      "2614841\n"
     ]
    }
   ],
   "source": [
    "print(len(word_counter)) # word 개수"
   ]
  },
  {
   "cell_type": "code",
   "execution_count": 43,
   "metadata": {
    "colab": {
     "base_uri": "https://localhost:8080/"
    },
    "executionInfo": {
     "elapsed": 2784,
     "status": "ok",
     "timestamp": 1616157119843,
     "user": {
      "displayName": "현청천",
      "photoUrl": "https://lh3.googleusercontent.com/a-/AOh14GingwsOzB_fFlwKa3Z4CH1TlVnyWMq-xfwt25iMhS0=s64",
      "userId": "02662570985009482782"
     },
     "user_tz": -540
    },
    "id": "AJszqjYWeCrw",
    "outputId": "e4ed0074-4464-4e75-b0b6-88a15d6018d1"
   },
   "outputs": [
    {
     "name": "stdout",
     "output_type": "stream",
     "text": [
      "[('the', 5905474), ('of', 3391153), ('and', 2698259), ('in', 2102004), ('to', 2009975), ('a', 1737393), ('is', 879367), ('was', 870521), ('as', 799966), ('The', 791450)]\n",
      "[('id=\"10\"', 1), ('url=\"https://en.wikipedia.org/wiki?curid=10\"', 1), ('title=\"AccessibleComputing\">', 1), ('AccessibleComputing', 1), ('id=\"12\"', 1), ('url=\"https://en.wikipedia.org/wiki?curid=12\"', 1), ('title=\"Anarchism\">', 1), ('(libertarian', 1), ('\"anarkhia\",', 1), ('\"arkhos\"', 1)]\n"
     ]
    }
   ],
   "source": [
    "most_freq = sorted(word_counter.items(), key=lambda item: item[1], reverse=True)# 빈도수가 많은 단어 10개 출력\n",
    "least_freq = sorted(word_counter.items(), key=lambda item: item[1])# 빈도수가 적은 단어 10개 출력\n",
    "\n",
    "print(most_freq[:10])\n",
    "print(least_freq[:10])"
   ]
  },
  {
   "cell_type": "code",
   "execution_count": 44,
   "metadata": {
    "colab": {
     "base_uri": "https://localhost:8080/"
    },
    "executionInfo": {
     "elapsed": 1810,
     "status": "ok",
     "timestamp": 1616158568142,
     "user": {
      "displayName": "현청천",
      "photoUrl": "https://lh3.googleusercontent.com/a-/AOh14GingwsOzB_fFlwKa3Z4CH1TlVnyWMq-xfwt25iMhS0=s64",
      "userId": "02662570985009482782"
     },
     "user_tz": -540
    },
    "id": "lOkUkyqKeCr6",
    "outputId": "f5288f7a-1f7f-4155-c938-04b4d42b9f25"
   },
   "outputs": [
    {
     "name": "stdout",
     "output_type": "stream",
     "text": [
      "90910077\n"
     ]
    }
   ],
   "source": [
    "# token 개수\n",
    "count = 0\n",
    "for c, cnt in word_counter.items():\n",
    "    count += cnt\n",
    "print(count)"
   ]
  },
  {
   "cell_type": "code",
   "execution_count": 45,
   "metadata": {
    "colab": {
     "base_uri": "https://localhost:8080/"
    },
    "executionInfo": {
     "elapsed": 4943,
     "status": "ok",
     "timestamp": 1616157201868,
     "user": {
      "displayName": "현청천",
      "photoUrl": "https://lh3.googleusercontent.com/a-/AOh14GingwsOzB_fFlwKa3Z4CH1TlVnyWMq-xfwt25iMhS0=s64",
      "userId": "02662570985009482782"
     },
     "user_tz": -540
    },
    "id": "9WTtzdppeCr6",
    "outputId": "cd6feae0-f9e2-4c7d-c3cb-85e77e617745"
   },
   "outputs": [
    {
     "name": "stdout",
     "output_type": "stream",
     "text": [
      "2614843\n"
     ]
    }
   ],
   "source": [
    "# word에 일련번호 부여\n",
    "word_to_id = {'[PAD]': 0, '[UNK]': 1}\n",
    "for w, cnt in word_counter.items():\n",
    "    word_to_id[w] = len(word_to_id)\n",
    "print(len(word_to_id))"
   ]
  },
  {
   "cell_type": "code",
   "execution_count": 46,
   "metadata": {
    "colab": {
     "base_uri": "https://localhost:8080/"
    },
    "executionInfo": {
     "elapsed": 580,
     "status": "ok",
     "timestamp": 1616157375571,
     "user": {
      "displayName": "현청천",
      "photoUrl": "https://lh3.googleusercontent.com/a-/AOh14GingwsOzB_fFlwKa3Z4CH1TlVnyWMq-xfwt25iMhS0=s64",
      "userId": "02662570985009482782"
     },
     "user_tz": -540
    },
    "id": "iBJdRA8qeCr6",
    "outputId": "e4f56fe6-3d94-428a-f6fe-fbbea3090653",
    "scrolled": true
   },
   "outputs": [
    {
     "name": "stdout",
     "output_type": "stream",
     "text": [
      "<doc id=\"10\" url=\"https://en.wikipedia.org/wiki?curid=10\" title=\"AccessibleComputing\">\n",
      "[2, 3, 4, 5]\n",
      "AccessibleComputing\n",
      "[6]\n",
      "\n",
      "[]\n",
      "\n",
      "[]\n",
      "\n",
      "[]\n"
     ]
    }
   ],
   "source": [
    "# wiki word tokenize\n",
    "f = open(enwiki_file)\n",
    "for i, line in enumerate(f):\n",
    "    if i >= 5:\n",
    "        break\n",
    "    line = line.strip()\n",
    "    print(line)\n",
    "    _id = [word_to_id[w] for w in line.split()]\n",
    "    print(_id)"
   ]
  },
  {
   "cell_type": "markdown",
   "metadata": {
    "id": "fxdxqhjpab46"
   },
   "source": [
    "# BPE"
   ]
  },
  {
   "cell_type": "code",
   "execution_count": null,
   "metadata": {
    "id": "rPGpqky0vA2k"
   },
   "outputs": [],
   "source": [
    "# BPE corpus\n",
    "corpus = \"\"\"\n",
    "low lower newest widest\n",
    "low lower newest widest\n",
    "low       newest widest\n",
    "low       newest\n",
    "low       newest\n",
    "          newest\n",
    "\"\"\""
   ]
  },
  {
   "cell_type": "code",
   "execution_count": null,
   "metadata": {
    "colab": {
     "base_uri": "https://localhost:8080/"
    },
    "executionInfo": {
     "elapsed": 613,
     "status": "ok",
     "timestamp": 1616401267944,
     "user": {
      "displayName": "현청천",
      "photoUrl": "https://lh3.googleusercontent.com/a-/AOh14GingwsOzB_fFlwKa3Z4CH1TlVnyWMq-xfwt25iMhS0=s64",
      "userId": "02662570985009482782"
     },
     "user_tz": -540
    },
    "id": "kcNzdGO5cN1C",
    "outputId": "b0120ad5-dc59-4396-ce14-6aaea9ce3728"
   },
   "outputs": [
    {
     "name": "stdout",
     "output_type": "stream",
     "text": [
      "defaultdict(<class 'int'>, {'low': 5, 'lower': 2, 'newest': 6, 'widest': 3})\n"
     ]
    }
   ],
   "source": [
    "word_counter = collections.defaultdict(int)\n",
    "# word 개수 확인\n",
    "with zipfile.ZipFile(args.corpus) as z:\n",
    "    for w in corpus.strip().split():\n",
    "        word_counter[w] += 1\n",
    "\n",
    "print(word_counter)"
   ]
  },
  {
   "cell_type": "code",
   "execution_count": null,
   "metadata": {
    "colab": {
     "base_uri": "https://localhost:8080/"
    },
    "executionInfo": {
     "elapsed": 527,
     "status": "ok",
     "timestamp": 1616401268257,
     "user": {
      "displayName": "현청천",
      "photoUrl": "https://lh3.googleusercontent.com/a-/AOh14GingwsOzB_fFlwKa3Z4CH1TlVnyWMq-xfwt25iMhS0=s64",
      "userId": "02662570985009482782"
     },
     "user_tz": -540
    },
    "id": "8Zd7wbj_emI6",
    "outputId": "45203394-f02f-467a-a22f-f7f24e4678b2",
    "scrolled": true
   },
   "outputs": [
    {
     "name": "stdout",
     "output_type": "stream",
     "text": [
      "defaultdict(<class 'int'>, {'▁ l o w': 5, '▁ l o w e r': 2, '▁ n e w e s t': 6, '▁ w i d e s t': 3})\n"
     ]
    }
   ],
   "source": [
    "bpe_counter = collections.defaultdict(int)\n",
    "\n",
    "# subword 개수 확인\n",
    "for w, n in word_counter.items():\n",
    "    w = f\"\\u2581{w}\"\n",
    "    bpe_counter[\" \".join(w)] = n\n",
    "\n",
    "print(bpe_counter)"
   ]
  },
  {
   "cell_type": "code",
   "execution_count": null,
   "metadata": {
    "id": "heg0bUKkffNK"
   },
   "outputs": [],
   "source": [
    "def update_vocab(vocab, counter):\n",
    "    \"\"\"\n",
    "    vocab 변경\n",
    "    :param vocab: vocabulary\n",
    "    :param counter: BPE counter\n",
    "    \"\"\"\n",
    "    for w in counter:\n",
    "        for s in w.split():\n",
    "            if s not in vocab:\n",
    "                vocab[s] = len(vocab)\n",
    "    return vocab"
   ]
  },
  {
   "cell_type": "code",
   "execution_count": null,
   "metadata": {
    "colab": {
     "base_uri": "https://localhost:8080/"
    },
    "executionInfo": {
     "elapsed": 6735,
     "status": "ok",
     "timestamp": 1616400277550,
     "user": {
      "displayName": "현청천",
      "photoUrl": "https://lh3.googleusercontent.com/a-/AOh14GingwsOzB_fFlwKa3Z4CH1TlVnyWMq-xfwt25iMhS0=s64",
      "userId": "02662570985009482782"
     },
     "user_tz": -540
    },
    "id": "dNuqQfHug_VS",
    "outputId": "6e4f0a5e-2132-461f-c24e-5152cc0adb89"
   },
   "outputs": [
    {
     "name": "stdout",
     "output_type": "stream",
     "text": [
      "{'[PAD]': 0, '[UNK]': 1, '▁': 2, 'l': 3, 'o': 4, 'w': 5, 'e': 6, 'r': 7, 'n': 8, 's': 9, 't': 10, 'i': 11, 'd': 12}\n"
     ]
    }
   ],
   "source": [
    "# bpe 일련번호 부여\n",
    "bpe_to_id = {'[PAD]': 0, '[UNK]': 1}\n",
    "bpe_to_id = update_vocab(bpe_to_id, bpe_counter)\n",
    "\n",
    "print(bpe_to_id)"
   ]
  },
  {
   "cell_type": "code",
   "execution_count": null,
   "metadata": {
    "id": "fa5fZgb3hOMh"
   },
   "outputs": [],
   "source": [
    "def get_stats(counter):\n",
    "    \"\"\"\n",
    "    bi-gram 빈도수 계산\n",
    "    :param counter: BPE counter\n",
    "    \"\"\"\n",
    "    pairs = collections.defaultdict(int)\n",
    "    for word, freq in counter.items():\n",
    "        symbols = word.split()\n",
    "        for i in range(len(symbols)-1):\n",
    "            pairs[symbols[i],symbols[i+1]] += freq\n",
    "    return pairs"
   ]
  },
  {
   "cell_type": "code",
   "execution_count": null,
   "metadata": {
    "id": "Tdr0SEXXnIcu"
   },
   "outputs": [],
   "source": [
    "def merge_vocab(pair, v_in):\n",
    "    \"\"\"\n",
    "    bi-gram merge\n",
    "    :param counter: BPE counter\n",
    "    \"\"\"\n",
    "    v_out = {}\n",
    "    bigram = re.escape(' '.join(pair))\n",
    "    p = re.compile(r'(?<!\\S)' + bigram + r'(?!\\S)')\n",
    "    for word in v_in:\n",
    "        w_out = p.sub(''.join(pair), word)\n",
    "        v_out[w_out] = v_in[word]\n",
    "    return v_out"
   ]
  },
  {
   "cell_type": "code",
   "execution_count": null,
   "metadata": {
    "colab": {
     "base_uri": "https://localhost:8080/"
    },
    "executionInfo": {
     "elapsed": 654,
     "status": "ok",
     "timestamp": 1616401992016,
     "user": {
      "displayName": "현청천",
      "photoUrl": "https://lh3.googleusercontent.com/a-/AOh14GingwsOzB_fFlwKa3Z4CH1TlVnyWMq-xfwt25iMhS0=s64",
      "userId": "02662570985009482782"
     },
     "user_tz": -540
    },
    "id": "JVfaVsf2EO7d",
    "outputId": "aebe007b-a02a-4d95-9dac-669f7d517168",
    "scrolled": true
   },
   "outputs": [
    {
     "name": "stdout",
     "output_type": "stream",
     "text": [
      "defaultdict(<class 'int'>, {('▁', 'l'): 7, ('l', 'o'): 7, ('o', 'w'): 7, ('w', 'e'): 8, ('e', 'r'): 2, ('▁', 'n'): 6, ('n', 'e'): 6, ('e', 'w'): 6, ('e', 's'): 9, ('s', 't'): 9, ('▁', 'w'): 3, ('w', 'i'): 3, ('i', 'd'): 3, ('d', 'e'): 3})\n"
     ]
    }
   ],
   "source": [
    "# bigram pair\n",
    "pairs = get_stats(bpe_counter)\n",
    "\n",
    "print(pairs)"
   ]
  },
  {
   "cell_type": "code",
   "execution_count": null,
   "metadata": {
    "colab": {
     "base_uri": "https://localhost:8080/"
    },
    "executionInfo": {
     "elapsed": 748,
     "status": "ok",
     "timestamp": 1616402266860,
     "user": {
      "displayName": "현청천",
      "photoUrl": "https://lh3.googleusercontent.com/a-/AOh14GingwsOzB_fFlwKa3Z4CH1TlVnyWMq-xfwt25iMhS0=s64",
      "userId": "02662570985009482782"
     },
     "user_tz": -540
    },
    "id": "oqgNC_0IFRtU",
    "outputId": "fcf68dfa-5bac-4ce6-effa-c3f4503b8f84"
   },
   "outputs": [
    {
     "name": "stdout",
     "output_type": "stream",
     "text": [
      "('e', 's')\n"
     ]
    }
   ],
   "source": [
    "# find most freq bigram pair\n",
    "best = max(pairs, key=pairs.get)\n",
    "\n",
    "print(best)"
   ]
  },
  {
   "cell_type": "code",
   "execution_count": null,
   "metadata": {
    "colab": {
     "base_uri": "https://localhost:8080/"
    },
    "executionInfo": {
     "elapsed": 630,
     "status": "ok",
     "timestamp": 1616402783064,
     "user": {
      "displayName": "현청천",
      "photoUrl": "https://lh3.googleusercontent.com/a-/AOh14GingwsOzB_fFlwKa3Z4CH1TlVnyWMq-xfwt25iMhS0=s64",
      "userId": "02662570985009482782"
     },
     "user_tz": -540
    },
    "id": "v3PoDJ5CHPRA",
    "outputId": "590c0b61-c05a-47d5-a648-b5f683ad08e1"
   },
   "outputs": [
    {
     "name": "stdout",
     "output_type": "stream",
     "text": [
      "{'▁ l o w': 5, '▁ l o w e r': 2, '▁ n e w es t': 6, '▁ w i d es t': 3}\n"
     ]
    }
   ],
   "source": [
    "# merge most freq bigram pair\n",
    "bpe_counter = merge_vocab(best, bpe_counter)\n",
    "\n",
    "print(bpe_counter)"
   ]
  },
  {
   "cell_type": "code",
   "execution_count": null,
   "metadata": {
    "colab": {
     "base_uri": "https://localhost:8080/"
    },
    "executionInfo": {
     "elapsed": 686,
     "status": "ok",
     "timestamp": 1616403171332,
     "user": {
      "displayName": "현청천",
      "photoUrl": "https://lh3.googleusercontent.com/a-/AOh14GingwsOzB_fFlwKa3Z4CH1TlVnyWMq-xfwt25iMhS0=s64",
      "userId": "02662570985009482782"
     },
     "user_tz": -540
    },
    "id": "1QOi7PPpIu73",
    "outputId": "9d0717a7-6281-4980-a437-d03449907c83"
   },
   "outputs": [
    {
     "name": "stdout",
     "output_type": "stream",
     "text": [
      "{'[PAD]': 0, '[UNK]': 1, '▁': 2, 'l': 3, 'o': 4, 'w': 5, 'e': 6, 'r': 7, 'n': 8, 's': 9, 't': 10, 'i': 11, 'd': 12, 'es': 13}\n"
     ]
    }
   ],
   "source": [
    "# update vocab\n",
    "bpe_to_id = update_vocab(bpe_to_id, bpe_counter)\n",
    "\n",
    "print(bpe_to_id)"
   ]
  },
  {
   "cell_type": "code",
   "execution_count": null,
   "metadata": {
    "colab": {
     "base_uri": "https://localhost:8080/"
    },
    "executionInfo": {
     "elapsed": 629,
     "status": "ok",
     "timestamp": 1616403631836,
     "user": {
      "displayName": "현청천",
      "photoUrl": "https://lh3.googleusercontent.com/a-/AOh14GingwsOzB_fFlwKa3Z4CH1TlVnyWMq-xfwt25iMhS0=s64",
      "userId": "02662570985009482782"
     },
     "user_tz": -540
    },
    "id": "NR6f7bcchu0P",
    "outputId": "360c1a8d-5ec0-46be-ee21-4b8d859cabf3"
   },
   "outputs": [
    {
     "name": "stdout",
     "output_type": "stream",
     "text": [
      "defaultdict(<class 'int'>, {('▁low', 'e'): 2, ('e', 'r'): 2, ('▁', 'n'): 6, ('n', 'e'): 6, ('e', 'w'): 6, ('w', 'est'): 6, ('▁', 'w'): 3, ('w', 'i'): 3, ('i', 'd'): 3, ('d', 'est'): 3})\n",
      "('▁', 'n')\n",
      "{'▁low': 5, '▁low e r': 2, '▁n e w est': 6, '▁ w i d est': 3}\n",
      "{'[PAD]': 0, '[UNK]': 1, '▁': 2, 'l': 3, 'o': 4, 'w': 5, 'e': 6, 'r': 7, 'n': 8, 's': 9, 't': 10, 'i': 11, 'd': 12, 'es': 13, 'est': 14, '▁l': 15, '▁lo': 16, '▁low': 17, '▁n': 18}\n"
     ]
    }
   ],
   "source": [
    "# bigram pair\n",
    "pairs = get_stats(bpe_counter)\n",
    "print(pairs)\n",
    "# find most freq bigram pair\n",
    "best = max(pairs, key=pairs.get)\n",
    "print(best)\n",
    "# merge most freq bigram pair\n",
    "bpe_counter = merge_vocab(best, bpe_counter)\n",
    "print(bpe_counter)\n",
    "# update vocab\n",
    "bpe_to_id = update_vocab(bpe_to_id, bpe_counter)\n",
    "print(bpe_to_id)"
   ]
  },
  {
   "cell_type": "markdown",
   "metadata": {
    "id": "qR3Khqec16al"
   },
   "source": [
    "# Sentencepiece with Morph"
   ]
  },
  {
   "cell_type": "code",
   "execution_count": 56,
   "metadata": {
    "executionInfo": {
     "elapsed": 766485,
     "status": "ok",
     "timestamp": 1616483327467,
     "user": {
      "displayName": "현청천",
      "photoUrl": "https://lh3.googleusercontent.com/a-/AOh14GingwsOzB_fFlwKa3Z4CH1TlVnyWMq-xfwt25iMhS0=s64",
      "userId": "02662570985009482782"
     },
     "user_tz": -540
    },
    "id": "87-H6HOr2Lzm"
   },
   "outputs": [],
   "source": [
    "# morph 단위로 분할된 말뭉치 생성\n",
    "with open(\"kowiki-mecab.txt\", \"w\") as o_f:\n",
    "    with zipfile.ZipFile(args.corpus) as z:\n",
    "        with z.open('kowiki.txt') as f:\n",
    "            for i, line in enumerate(f):\n",
    "                line = line.decode('utf-8').strip()\n",
    "                tokens = mecab.morphs(line)\n",
    "                string = \" \".join(tokens)\n",
    "                o_f.write(string)\n",
    "                o_f.write(\"\\n\")"
   ]
  },
  {
   "cell_type": "code",
   "execution_count": 57,
   "metadata": {
    "colab": {
     "base_uri": "https://localhost:8080/"
    },
    "executionInfo": {
     "elapsed": 1439,
     "status": "ok",
     "timestamp": 1616483339350,
     "user": {
      "displayName": "현청천",
      "photoUrl": "https://lh3.googleusercontent.com/a-/AOh14GingwsOzB_fFlwKa3Z4CH1TlVnyWMq-xfwt25iMhS0=s64",
      "userId": "02662570985009482782"
     },
     "user_tz": -540
    },
    "id": "452xXMKa1-2u",
    "outputId": "21685981-700b-4f47-837e-09bdc8bc936a"
   },
   "outputs": [
    {
     "name": "stdout",
     "output_type": "stream",
     "text": [
      "['.config', 'kowiki-mecab.txt', '.ipynb_checkpoints', 'drive', 'kowiki.txt', 'kowiki_32000.model', 'kowiki_32000.vocab', '__MACOSX', 'sample_data']\n"
     ]
    }
   ],
   "source": [
    "# 파일 확인\n",
    "print(os.listdir(\"./\"))"
   ]
  },
  {
   "cell_type": "code",
   "execution_count": 58,
   "metadata": {
    "executionInfo": {
     "elapsed": 23565,
     "status": "ok",
     "timestamp": 1616483409720,
     "user": {
      "displayName": "현청천",
      "photoUrl": "https://lh3.googleusercontent.com/a-/AOh14GingwsOzB_fFlwKa3Z4CH1TlVnyWMq-xfwt25iMhS0=s64",
      "userId": "02662570985009482782"
     },
     "user_tz": -540
    },
    "id": "rR2LBhW26kZT"
   },
   "outputs": [],
   "source": [
    "# morph vocab 학습\n",
    "train_sentencepiece(\"kowiki-mecab.txt\", \"kowiki_mecab_32000\")"
   ]
  },
  {
   "cell_type": "code",
   "execution_count": 59,
   "metadata": {
    "colab": {
     "base_uri": "https://localhost:8080/"
    },
    "executionInfo": {
     "elapsed": 1094,
     "status": "ok",
     "timestamp": 1616483411680,
     "user": {
      "displayName": "현청천",
      "photoUrl": "https://lh3.googleusercontent.com/a-/AOh14GingwsOzB_fFlwKa3Z4CH1TlVnyWMq-xfwt25iMhS0=s64",
      "userId": "02662570985009482782"
     },
     "user_tz": -540
    },
    "id": "5ZZmwm1K6wL5",
    "outputId": "8c5b81ee-5983-41a6-ad08-e2fb24eb4b92"
   },
   "outputs": [
    {
     "name": "stdout",
     "output_type": "stream",
     "text": [
      "['.config', 'kowiki_mecab_32000.vocab', 'kowiki_mecab_32000.model', 'kowiki-mecab.txt', '.ipynb_checkpoints', 'drive', 'kowiki.txt', 'kowiki_32000.model', 'kowiki_32000.vocab', '__MACOSX', 'sample_data']\n"
     ]
    }
   ],
   "source": [
    "# 생성결과 확인\n",
    "print(os.listdir(\"./\"))"
   ]
  },
  {
   "cell_type": "code",
   "execution_count": 60,
   "metadata": {
    "colab": {
     "base_uri": "https://localhost:8080/"
    },
    "executionInfo": {
     "elapsed": 949,
     "status": "ok",
     "timestamp": 1616483424653,
     "user": {
      "displayName": "현청천",
      "photoUrl": "https://lh3.googleusercontent.com/a-/AOh14GingwsOzB_fFlwKa3Z4CH1TlVnyWMq-xfwt25iMhS0=s64",
      "userId": "02662570985009482782"
     },
     "user_tz": -540
    },
    "id": "2MAHLA3X61r4",
    "outputId": "c529cd31-ed50-44ba-ade0-589ff5f5a9e9"
   },
   "outputs": [
    {
     "name": "stdout",
     "output_type": "stream",
     "text": [
      "['kowiki.txt.zip', 'kowiki_32000.model', 'kowiki_32000.vocab', 'kowiki_mecab_32000.model', 'kowiki_mecab_32000.vocab']\n"
     ]
    }
   ],
   "source": [
    "# 생성파일 백업\n",
    "corpus_dir = os.path.dirname(args.corpus)\n",
    "shutil.copy(\"kowiki_mecab_32000.model\", corpus_dir)\n",
    "shutil.copy(\"kowiki_mecab_32000.vocab\", corpus_dir)\n",
    "\n",
    "print(os.listdir(corpus_dir))"
   ]
  },
  {
   "cell_type": "code",
   "execution_count": 61,
   "metadata": {
    "colab": {
     "base_uri": "https://localhost:8080/"
    },
    "executionInfo": {
     "elapsed": 681,
     "status": "ok",
     "timestamp": 1616483557253,
     "user": {
      "displayName": "현청천",
      "photoUrl": "https://lh3.googleusercontent.com/a-/AOh14GingwsOzB_fFlwKa3Z4CH1TlVnyWMq-xfwt25iMhS0=s64",
      "userId": "02662570985009482782"
     },
     "user_tz": -540
    },
    "id": "QpB1lbV-65Wp",
    "outputId": "7ae96a55-1f4e-4681-bcc1-d0e832047a44"
   },
   "outputs": [
    {
     "data": {
      "text/plain": [
       "True"
      ]
     },
     "execution_count": 61,
     "metadata": {
      "tags": []
     },
     "output_type": "execute_result"
    }
   ],
   "source": [
    "# load morph vocab\n",
    "spm_morph_vocab = spm.SentencePieceProcessor()\n",
    "spm_morph_vocab.load(os.path.join(corpus_dir, \"kowiki_mecab_32000.model\"))"
   ]
  },
  {
   "cell_type": "code",
   "execution_count": 62,
   "metadata": {
    "colab": {
     "base_uri": "https://localhost:8080/"
    },
    "executionInfo": {
     "elapsed": 831,
     "status": "ok",
     "timestamp": 1616483686588,
     "user": {
      "displayName": "현청천",
      "photoUrl": "https://lh3.googleusercontent.com/a-/AOh14GingwsOzB_fFlwKa3Z4CH1TlVnyWMq-xfwt25iMhS0=s64",
      "userId": "02662570985009482782"
     },
     "user_tz": -540
    },
    "id": "Vd_J9u1F7Zyv",
    "outputId": "711ad7c2-de25-4878-90ee-2e9206d6c7b7"
   },
   "outputs": [
    {
     "name": "stdout",
     "output_type": "stream",
     "text": [
      "지미 카터\n",
      "지미 카터\n",
      "['▁지', '미', '▁카', '터']\n",
      "[45, 534, 556, 57]\n",
      "제임스 얼 \"지미\" 카터 주니어(, 1924년 10월 1일 ~ )는 민주당 출신 미국 39번째 대통령 (1977년 ~ 1981년)이다.\n",
      "제임스 얼 \" 지미 \" 카터 주니어 ( , 1924 년 10 월 1 일 ~ ) 는 민주당 출신 미국 39 번 째 대통령 ( 1977 년 ~ 1981 년 ) 이 다 .\n",
      "['▁제임스', '▁얼', '▁\"', '▁지', '미', '▁\"', '▁카', '터', '▁주니어', '▁(', '▁,', '▁192', '4', '▁년', '▁10', '▁월', '▁1', '▁일', '▁~', '▁)', '▁는', '▁민주', '당', '▁출신', '▁미국', '▁39', '▁번', '▁째', '▁대통령', '▁(', '▁1977', '▁년', '▁~', '▁198', '1', '▁년', '▁)', '▁이', '▁다', '▁.']\n",
      "[2279, 3285, 51, 45, 534, 51, 556, 57, 4215, 19, 12, 668, 160, 21, 125, 35, 50, 36, 114, 18, 11, 904, 229, 656, 139, 2540, 128, 268, 513, 19, 2435, 21, 114, 194, 389, 21, 18, 10, 9, 7]\n",
      "지미 카터는 조지아주 섬터 카운티 플레인스 마을에서 태어났다. 조지아 공과대학교를 졸업하였다. 그 후 해군에 들어가 전함·원자력·잠수함의 승무원으로 일하였다. 1953년 미국 해군 대위로 예편하였고 이후 땅콩·면화 등을 가꿔 많은 돈을 벌었다. 그의 별명이 \"땅콩 농부\" (Peanut Farmer)로 알려졌다.\n",
      "지미 카터 는 조지 아주 섬터 카운티 플 레인스 마을 에서 태어났 다 . 조지 아 공과 대학교 를 졸업 하 였 다 . 그 후 해군 에 들어가 전함 · 원자력 · 잠수함 의 승무원 으로 일 하 였 다 . 1953 년 미국 해군 대위 로 예편 하 였 고 이후 땅콩 · 면화 등 을 가꿔 많 은 돈 을 벌 었 다 . 그 의 별명 이 \" 땅콩 농부 \" ( Peanut Farmer ) 로 알려졌 다 .\n",
      "['▁지', '미', '▁카', '터', '▁는', '▁조지', '▁아주', '▁섬', '터', '▁카운', '티', '▁플', '▁레인', '스', '▁마을', '▁에서', '▁태어났', '▁다', '▁.', '▁조지', '▁아', '▁공과', '▁대', '학교', '▁를', '▁졸업', '▁하', '▁였', '▁다', '▁.', '▁그', '▁후', '▁해군', '▁에', '▁들', '어가', '▁전', '함', '▁·', '▁원자력', '▁·', '▁', '잠수함', '▁의', '▁승무', '원', '▁으로', '▁일', '▁하', '▁였', '▁다', '▁.', '▁195', '3', '▁년', '▁미국', '▁해군', '▁대위', '▁로', '▁예', '편', '▁하', '▁였', '▁고', '▁이후', '▁땅콩', '▁·', '▁면', '화', '▁등', '▁을', '▁가', '꿔', '▁많', '▁은', '▁돈', '▁을', '▁벌', '▁었', '▁다', '▁.', '▁그', '▁의', '▁별', '명', '▁이', '▁\"', '▁땅콩', '▁농', '부', '▁\"', '▁(', '▁Pe', 'an', 'ut', '▁Farm', 'er', '▁)', '▁로', '▁알려졌', '▁다', '▁.']\n",
      "[45, 534, 556, 57, 11, 1879, 2403, 492, 57, 5627, 620, 2371, 5844, 81, 973, 26, 1097, 9, 7, 1879, 78, 5432, 55, 247, 20, 888, 16, 40, 9, 7, 33, 104, 1301, 13, 32, 1239, 89, 254, 117, 3882, 117, 15, 4683, 8, 5333, 143, 24, 36, 16, 40, 9, 7, 482, 182, 21, 139, 1301, 6663, 27, 292, 372, 16, 40, 22, 134, 14025, 117, 109, 416, 54, 14, 23, 27197, 164, 17, 1314, 14, 1574, 30, 9, 7, 33, 8, 383, 350, 10, 51, 14025, 1650, 101, 51, 19, 14681, 3035, 8973, 25619, 1489, 18, 27, 2766, 9, 7]\n",
      "1962년 조지아 주 상원 의원 선거에서 낙선하나 그 선거가 부정선거 였음을 입증하게 되어 당선되고, 1966년 조지아 주 지사 선거에 낙선하지만 1970년 조지아 주 지사를 역임했다. 대통령이 되기 전 조지아주 상원의원을 두번 연임했으며, 1971년부터 1975년까지 조지아 지사로 근무했다. 조지아 주지사로 지내면서, 미국에 사는 흑인 등용법을 내세웠다.\n",
      "1962 년 조지아 주 상원 의원 선거 에서 낙선 하 나 그 선거 가 부정 선거 였음을 입증 하 게 되 어 당선 되 고 , 1966 년 조지아 주 지사 선거 에 낙선 하 지만 1970 년 조지아 주 지사 를 역임 했 다 . 대통령 이 되 기 전 조지 아주 상원 의원 을 두 번 연임 했으며 , 1971 년 부터 1975 년 까지 조지 아 지사 로 근무 했 다 . 조지 아 주지사 로 지내 면서 , 미국 에 사 는 흑인 등 용법 을 내세웠 다 .\n",
      "['▁196', '2', '▁년', '▁조지아', '▁주', '▁상원', '▁의', '원', '▁선거', '▁에서', '▁낙선', '▁하', '▁나', '▁그', '▁선거', '▁가', '▁부정', '▁선거', '▁였', '음', '을', '▁입증', '▁하', '▁게', '▁되', '▁어', '▁당선', '▁되', '▁고', '▁,', '▁196', '6', '▁년', '▁조지아', '▁주', '▁지사', '▁선거', '▁에', '▁낙선', '▁하', '▁지만', '▁197', '0', '▁년', '▁조지아', '▁주', '▁지사', '▁를', '▁역', '임', '▁했', '▁다', '▁.', '▁대통령', '▁이', '▁되', '▁기', '▁전', '▁조지', '▁아주', '▁상원', '▁의', '원', '▁을', '▁두', '▁번', '▁연', '임', '▁했으', '며', '▁,', '▁197', '1', '▁년', '▁부', '터', '▁197', '5', '▁년', '▁까', '지', '▁조지', '▁아', '▁지사', '▁로', '▁근무', '▁했', '▁다', '▁.', '▁조지', '▁아', '▁주', '지사', '▁로', '▁지', '내', '▁면서', '▁,', '▁미국', '▁에', '▁사', '▁는', '▁흑', '인', '▁등', '▁용', '법', '▁을', '▁내세웠', '▁다', '▁.']\n",
      "[344, 217, 21, 3806, 82, 3570, 8, 143, 724, 26, 6922, 16, 95, 33, 724, 23, 1772, 724, 40, 90, 1802, 5020, 16, 52, 29, 43, 1989, 29, 22, 12, 344, 165, 21, 3806, 82, 4160, 724, 13, 6922, 16, 112, 277, 153, 21, 3806, 82, 4160, 20, 121, 378, 38, 9, 7, 513, 10, 29, 41, 89, 1879, 2403, 3570, 8, 143, 14, 127, 128, 468, 378, 453, 56, 12, 277, 389, 21, 64, 57, 277, 252, 21, 94, 44, 1879, 78, 4160, 27, 1824, 38, 9, 7, 1879, 78, 82, 5246, 27, 45, 394, 140, 12, 139, 13, 130, 11, 1556, 84, 54, 327, 363, 14, 10721, 9, 7]\n",
      "1976년 대통령 선거에 민주당 후보로 출마하여 도덕주의 정책으로 내세워, 포드를 누르고 당선되었다.\n",
      "1976 년 대통령 선거 에 민주당 후보 로 출마 하 여 도덕주의 정책 으로 내세워 , 포드 를 누르 고 당선 되 었 다 .\n",
      "['▁197', '6', '▁년', '▁대통령', '▁선거', '▁에', '▁민주', '당', '▁후보', '▁로', '▁출', '마', '▁하', '▁여', '▁도덕', '주의', '▁정책', '▁으로', '▁내세워', '▁,', '▁포드', '▁를', '▁누르', '▁고', '▁당선', '▁되', '▁었', '▁다', '▁.']\n",
      "[277, 165, 21, 513, 724, 13, 904, 229, 887, 27, 444, 550, 16, 48, 3777, 666, 945, 24, 12742, 12, 4828, 20, 4137, 22, 1989, 29, 30, 9, 7]\n"
     ]
    }
   ],
   "source": [
    "# wiki spm morph tokenize\n",
    "with zipfile.ZipFile(args.corpus) as z:\n",
    "    with z.open('kowiki.txt') as f:\n",
    "        for i, line in enumerate(f):\n",
    "            if i >= 5:\n",
    "                break\n",
    "            line = line.decode('utf-8').strip()\n",
    "            print(line)\n",
    "            string = \" \".join(mecab.morphs(line))\n",
    "            print(string)\n",
    "            tokens = spm_morph_vocab.encode_as_pieces(string)\n",
    "            print(tokens)\n",
    "            _ids = spm_morph_vocab.encode_as_ids(string)\n",
    "            print(_ids)"
   ]
  },
  {
   "cell_type": "code",
   "execution_count": null,
   "metadata": {
    "id": "VhBBLpx475VY"
   },
   "outputs": [],
   "source": []
  }
 ],
 "metadata": {
  "colab": {
   "authorship_tag": "ABX9TyMOnO6Y8JfTov6e9mJNDqV+",
   "collapsed_sections": [
    "cxsyY8pZLzc3",
    "Q0uHvRbvLVyk",
    "H6Pgz60edJFa",
    "Ih5DGiE2tAoG",
    "ruOrFEFQn_W2",
    "fxdxqhjpab46",
    "AbYZcnrtQJz_",
    "qR3Khqec16al"
   ],
   "name": "02-02-tokenizer-vocabulary.ipynb",
   "provenance": [],
   "toc_visible": true
  },
  "kernelspec": {
   "display_name": "Python 3",
   "language": "python",
   "name": "python3"
  },
  "language_info": {
   "codemirror_mode": {
    "name": "ipython",
    "version": 3
   },
   "file_extension": ".py",
   "mimetype": "text/x-python",
   "name": "python",
   "nbconvert_exporter": "python",
   "pygments_lexer": "ipython3",
   "version": "3.8.8"
  }
 },
 "nbformat": 4,
 "nbformat_minor": 1
}
