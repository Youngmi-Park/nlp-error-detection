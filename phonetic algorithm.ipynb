{
 "cells": [
  {
   "cell_type": "code",
   "execution_count": 178,
   "id": "f4e8c6eb",
   "metadata": {},
   "outputs": [],
   "source": [
    "# conda install -c conda-forge jellyfish\n",
    "import jellyfish._jellyfish as pyjellyfish\n",
    "from eudex import eudex\n",
    "from transformers import BertTokenizer, BertModel, pipeline\n",
    "import pandas as pd\n",
    "import openpyxl"
   ]
  },
  {
   "cell_type": "code",
   "execution_count": 185,
   "id": "cdffb6c5",
   "metadata": {
    "scrolled": false
   },
   "outputs": [
    {
     "name": "stderr",
     "output_type": "stream",
     "text": [
      "Some weights of the model checkpoint at bert-base-uncased were not used when initializing BertForMaskedLM: ['cls.seq_relationship.weight', 'cls.seq_relationship.bias']\n",
      "- This IS expected if you are initializing BertForMaskedLM from the checkpoint of a model trained on another task or with another architecture (e.g. initializing a BertForSequenceClassification model from a BertForPreTraining model).\n",
      "- This IS NOT expected if you are initializing BertForMaskedLM from the checkpoint of a model that you expect to be exactly identical (initializing a BertForSequenceClassification model from a BertForSequenceClassification model).\n"
     ]
    }
   ],
   "source": [
    "jf = pyjellyfish\n",
    "e = eudex\n",
    "unmasker = pipeline('fill-mask', model='bert-base-uncased')"
   ]
  },
  {
   "cell_type": "code",
   "execution_count": 398,
   "id": "6d425c9b",
   "metadata": {},
   "outputs": [],
   "source": [
    "w1 = 'loose'\n",
    "w2 = 'lose'"
   ]
  },
  {
   "cell_type": "code",
   "execution_count": 399,
   "id": "112f3f00",
   "metadata": {},
   "outputs": [
    {
     "data": {
      "text/plain": [
       "('L200', 'L200')"
      ]
     },
     "execution_count": 399,
     "metadata": {},
     "output_type": "execute_result"
    }
   ],
   "source": [
    "jf.soundex(w1), jf.soundex(w2)"
   ]
  },
  {
   "cell_type": "code",
   "execution_count": 400,
   "id": "b0417c0a",
   "metadata": {},
   "outputs": [
    {
     "data": {
      "text/plain": [
       "(5764607523034240000, 5764607523034240000)"
      ]
     },
     "execution_count": 400,
     "metadata": {},
     "output_type": "execute_result"
    }
   ],
   "source": [
    "e(w1), e(w2)"
   ]
  },
  {
   "cell_type": "code",
   "execution_count": 401,
   "id": "c557abe5",
   "metadata": {},
   "outputs": [
    {
     "data": {
      "text/plain": [
       "0"
      ]
     },
     "execution_count": 401,
     "metadata": {},
     "output_type": "execute_result"
    }
   ],
   "source": [
    "soundexDistance(w1,w2)"
   ]
  },
  {
   "cell_type": "code",
   "execution_count": 402,
   "id": "0446621a",
   "metadata": {},
   "outputs": [
    {
     "data": {
      "text/plain": [
       "0"
      ]
     },
     "execution_count": 402,
     "metadata": {},
     "output_type": "execute_result"
    }
   ],
   "source": [
    "eudexDistance(w1,w2)"
   ]
  },
  {
   "cell_type": "code",
   "execution_count": 344,
   "id": "6d05ac8e",
   "metadata": {},
   "outputs": [],
   "source": [
    "def eudexDistance(w1,w2):\n",
    "    result = sum(1 for _ in bin(e(w1) ^ e(w2)) if _ == '1') # number of one after xoring hashes\n",
    "    return result"
   ]
  },
  {
   "cell_type": "code",
   "execution_count": 345,
   "id": "5e4a8732",
   "metadata": {},
   "outputs": [],
   "source": [
    "def soundexDistance(w1,w2):\n",
    "    temp1 = sum (1 for _ in bin(ord(jf.soundex(w1)[0]) ^ ord(jf.soundex(w2)[0])) if _ == '1')\n",
    "    temp2 = sum (1 for _ in bin(int(jf.soundex(w1)[1:]) ^ int(jf.soundex(w2)[1:])) if _ == '1')\n",
    "    \n",
    "    result = temp1 + temp2\n",
    "    return result"
   ]
  },
  {
   "cell_type": "code",
   "execution_count": 346,
   "id": "32e25b51",
   "metadata": {},
   "outputs": [],
   "source": [
    "def getDistanceList(s1, s2):\n",
    "    M = [[0] * (len(s1)+1) for _ in range(len(s1)+1)]# 길이가 긴 문자열을 기준으로 2차원 리스트 초기\n",
    "    long = len(s1)\n",
    "    short = len(s2)        \n",
    "    for i in range(long+1):\n",
    "        M[i][0] = i\n",
    "    for j in range(short+1):\n",
    "        M[0][j] = j\n",
    "    for i in range(1, long+1):\n",
    "        for j in range(1, short+1):\n",
    "            if s1[i-1] == s2[j-1]:\n",
    "                M[i][j] = M[i-1][j-1]\n",
    "            else:\n",
    "                M[i][j] = min(M[i-1][j], M[i-1][j-1], M[i][j-1]) + 1\n",
    "    return M, M[long][short] "
   ]
  },
  {
   "cell_type": "code",
   "execution_count": 347,
   "id": "caf2a03f",
   "metadata": {},
   "outputs": [],
   "source": [
    "# 두 문자열 길이비교\n",
    "def compareLength(s1, s2):\n",
    "    if len(s1) >= len(s2):\n",
    "        longstr, shortstr = s1, s2\n",
    "    else:\n",
    "        longstr, shortstr = s2, s1\n",
    "    return longstr, shortstr\n"
   ]
  },
  {
   "cell_type": "code",
   "execution_count": 323,
   "id": "547c1f91",
   "metadata": {},
   "outputs": [],
   "source": [
    "text1 = \"Could you find me my sit, please?\" # seat"
   ]
  },
  {
   "cell_type": "code",
   "execution_count": 348,
   "id": "043e1f6f",
   "metadata": {},
   "outputs": [],
   "source": [
    "text1 = \"They are with their docs.\" # their"
   ]
  },
  {
   "cell_type": "code",
   "execution_count": 374,
   "id": "3fe73809",
   "metadata": {},
   "outputs": [],
   "source": [
    "text1 = \"We walk along the saend.\" # their"
   ]
  },
  {
   "cell_type": "code",
   "execution_count": 390,
   "id": "81366dfb",
   "metadata": {},
   "outputs": [],
   "source": [
    "text1 = \"She ramed the key into the lock.\" # their"
   ]
  },
  {
   "cell_type": "code",
   "execution_count": 403,
   "id": "3e3f559e",
   "metadata": {},
   "outputs": [],
   "source": [
    "text1 = \"How can they loose the game.\""
   ]
  },
  {
   "cell_type": "code",
   "execution_count": 408,
   "id": "05738de0",
   "metadata": {},
   "outputs": [
    {
     "name": "stdout",
     "output_type": "stream",
     "text": [
      "[MASK] can they loose the game.\n",
      "how [MASK] they loose the game.\n",
      "how can [MASK] loose the game.\n",
      "how can they [MASK] the game.\n",
      "how can they loose [MASK] game.\n",
      "how can they loose the [MASK].\n"
     ]
    },
    {
     "data": {
      "text/plain": [
       "['how', 'can', 'they', 'loose', 'the', 'game.']"
      ]
     },
     "execution_count": 408,
     "metadata": {},
     "output_type": "execute_result"
    }
   ],
   "source": [
    "text_split = list(map(str,text1.lower().split()))\n",
    "text_list = []\n",
    "for i in range(len(text_split)):\n",
    "    temp = list(text_split)\n",
    "    temp[i] = '[MASK]'\n",
    "    if i == len(text_split)-1:\n",
    "        if text1[-1] == '?':\n",
    "            temp[i] = '[MASK]?'\n",
    "        else:\n",
    "            temp[i] = '[MASK].'\n",
    "    text_list.append(' '.join(map(str,temp)))\n",
    "    print(' '.join(map(str,temp)))\n",
    "text_split"
   ]
  },
  {
   "cell_type": "code",
   "execution_count": 411,
   "id": "62e38f8e",
   "metadata": {
    "scrolled": false
   },
   "outputs": [
    {
     "name": "stdout",
     "output_type": "stream",
     "text": [
      "[MASK] can they loose the game.  original token: how\n",
      "token   sequence                       soundex  edit_dist score\n",
      "how  \thow can they loose the game.\t0      \t0     \t0.20777511596679688\n",
      "he   \the can they loose the game. \t0      \t2     \t0.0013188411248847842\n",
      "hey  \they can they loose the game.\t0      \t2     \t1.9575669284677133e-05\n",
      "ho   \tho can they loose the game. \t0      \t1     \t1.1874297342728823e-05\n",
      "\n",
      "how [MASK] they loose the game.  original token: can\n",
      "token   sequence                       soundex  edit_dist score\n",
      "can  \thow can they loose the game.\t0      \t0     \t0.03041735105216503\n",
      "come \thow come they loose the game.\t0      \t3     \t0.001543902326375246\n",
      "came \thow came they loose the game.\t0      \t2     \t0.0003435284597799182\n",
      "cain \thow cain they loose the game.\t0      \t1     \t9.032014531840105e-06\n",
      "\n",
      "how can [MASK] loose the game.  original token: they\n",
      "token   sequence                       soundex  edit_dist score\n",
      "they \thow can they loose the game.\t0      \t0     \t0.06572222709655762\n",
      "to   \thow can to loose the game.  \t0      \t3     \t0.003268501255661249\n",
      "the  \thow can the loose the game. \t0      \t1     \t0.0003252867318224162\n",
      "t    \thow can t loose the game.   \t0      \t3     \t8.233443804783747e-05\n",
      "\n",
      "how can they [MASK] the game.  original token: loose\n",
      "token   sequence                       soundex  edit_dist score\n",
      "lose \thow can they lose the game. \t0      \t1     \t0.03527770936489105\n",
      "like \thow can they like the game. \t0      \t3     \t0.0014436751371249557\n",
      "loose\thow can they loose the game.\t0      \t0     \t2.278749343531672e-05\n",
      "look \thow can they look the game. \t0      \t2     \t1.84695436473703e-05\n",
      "\n",
      "how can they loose [MASK] game.  original token: the\n",
      "token   sequence                       soundex  edit_dist score\n",
      "the  \thow can they loose the game.\t0      \t0     \t0.3594745099544525\n",
      "to   \thow can they loose to game. \t0      \t2     \t0.0005103255389258265\n",
      "they \thow can they loose they game.\t0      \t1     \t0.0001378597953589633\n",
      "too  \thow can they loose too game.\t0      \t2     \t1.8759277736535296e-05\n",
      "\n",
      "how can they loose the [MASK].  original token: game.\n",
      "token   sequence                       soundex  edit_dist score\n",
      "gun  \thow can they loose the gun. \t0      \t4     \t0.0010071891592815518\n",
      "game \thow can they loose the game.\t0      \t1     \t0.0009160200715996325\n",
      "genie\thow can they loose the genie.\t0      \t4     \t9.809897164814174e-05\n",
      "gene \thow can they loose the gene.\t0      \t3     \t9.634741581976414e-05\n",
      "\n"
     ]
    }
   ],
   "source": [
    "fill2 = []\n",
    "data3 = []\n",
    "for num in range(len(text_split)):\n",
    "    masked_sentence = text_list[num]\n",
    "    original_token = text_split[num]\n",
    "    print(masked_sentence, \" original token:\", original_token)\n",
    "    fill2.append(unmasker(masked_sentence, original_token = original_token, top_k=30000))\n",
    "    for i in range(len(fill2)):\n",
    "        for j in range(len(fill2[i])):\n",
    "            s1 = fill2[i][j].get('token_str')\n",
    "            s2 = original_token\n",
    "            s1, s2 = compareLength(s1, s2) #문자열의 길이를 비교해서 s1에 긴문자열, s2에 짧은 문자열을 넣는다.\n",
    "    \n",
    "            soundex_distance = soundexDistance(s1, s2)\n",
    "            M, edit_distance = getDistanceList(s1, s2)\n",
    "            fill2[i][j]['edit_distance'] = edit_distance\n",
    "            #print(s2, \"와(과)\", s1, \"의 최소 편집 거리는\", edit_distance , \"이다.\", end=\"\\n\\n\")\n",
    "            fill2[i][j]['soundex_distance'] = soundex_distance\n",
    "    result3 = sorted(fill2[num], key = lambda x:(x['soundex_distance'],-x['score'],x['edit_distance']))\n",
    "    print('token   sequence                       soundex  edit_dist score')   \n",
    "    for k in range(4):\n",
    "        print('%-5s'%result3[k].get('token_str'),end='\\t')\n",
    "        print('%-28s'%result3[k].get('sequence'),end='\\t')\n",
    "        print('%-7s'%result3[k].get('soundex_distance'),end='\\t')\n",
    "        print('%-6s'%result3[k].get('edit_distance'),end='\\t')\n",
    "        print('%-5s'%result3[k].get('score'))\n",
    "    print()"
   ]
  },
  {
   "cell_type": "code",
   "execution_count": 410,
   "id": "345f53ef",
   "metadata": {
    "scrolled": false
   },
   "outputs": [
    {
     "name": "stdout",
     "output_type": "stream",
     "text": [
      "[MASK] can they loose the game.  original token: how\n",
      "token   sequence                            soundex  eudex  edit_dist  score\n",
      "how  \thow can they loose the game.\t0      \t0      \t0      \t0.20777511596679688\n",
      "ho   \tho can they loose the game. \t0      \t0      \t1      \t1.1874297342728823e-05\n",
      "howe \thowe can they loose the game.\t0      \t0      \t1      \t2.0198568506657466e-07\n",
      "he   \the can they loose the game. \t0      \t0      \t2      \t0.0013188411248847842\n",
      "\n",
      "how [MASK] they loose the game.  original token: can\n",
      "token   sequence                            soundex  eudex  edit_dist  score\n",
      "can  \thow can they loose the game.\t0      \t0      \t0      \t0.03041735105216503\n",
      "cain \thow cain they loose the game.\t0      \t0      \t1      \t9.032014531840105e-06\n",
      "con  \thow con they loose the game.\t0      \t0      \t1      \t5.7095112424576655e-06\n",
      "cam  \thow cam they loose the game.\t0      \t1      \t1      \t1.1915569757547928e-06\n",
      "\n",
      "how can [MASK] loose the game.  original token: they\n",
      "token   sequence                            soundex  eudex  edit_dist  score\n",
      "they \thow can they loose the game.\t0      \t0      \t0      \t0.06572222709655762\n",
      "the  \thow can the loose the game. \t0      \t0      \t1      \t0.0003252867318224162\n",
      "thee \thow can thee loose the game.\t0      \t0      \t1      \t1.2905743460578378e-05\n",
      "theo \thow can theo loose the game.\t0      \t0      \t1      \t1.1818628081528004e-05\n",
      "\n",
      "how can they [MASK] the game.  original token: loose\n",
      "token   sequence                            soundex  eudex  edit_dist  score\n",
      "loose\thow can they loose the game.\t0      \t0      \t0      \t2.278749343531672e-05\n",
      "lose \thow can they lose the game. \t0      \t0      \t1      \t0.03527770936489105\n",
      "look \thow can they look the game. \t0      \t4      \t2      \t1.84695436473703e-05\n",
      "loss \thow can they loss the game. \t0      \t4      \t2      \t1.58304137585219e-05\n",
      "\n",
      "how can they loose [MASK] game.  original token: the\n",
      "token   sequence                            soundex  eudex  edit_dist  score\n",
      "the  \thow can they loose the game.\t0      \t0      \t0      \t0.3594745099544525\n",
      "they \thow can they loose they game.\t0      \t0      \t1      \t0.0001378597953589633\n",
      "thy  \thow can they loose thy game.\t0      \t1      \t1      \t6.56408337817993e-06\n",
      "th   \thow can they loose th game. \t0      \t2      \t1      \t3.033232133020647e-06\n",
      "\n",
      "how can they loose the [MASK].  original token: game.\n",
      "token   sequence                            soundex  eudex  edit_dist  score\n",
      "game \thow can they loose the game.\t0      \t0      \t1      \t0.0009160200715996325\n",
      "gamma\thow can they loose the gamma.\t0      \t0      \t2      \t5.931804935244145e-06\n",
      "gene \thow can they loose the gene.\t0      \t1      \t3      \t9.634741581976414e-05\n",
      "gem  \thow can they loose the gem. \t0      \t2      \t3      \t7.955035107443109e-05\n",
      "\n"
     ]
    }
   ],
   "source": [
    "fill2 = []\n",
    "result4=[]\n",
    "for num in range(len(text_split)):\n",
    "    masked_sentence = text_list[num]\n",
    "    original_token = text_split[num]\n",
    "    print(masked_sentence, \" original token:\", original_token)\n",
    "    fill2.append(unmasker(masked_sentence, original_token = original_token, top_k=30000))\n",
    "    for i in range(len(fill2)):\n",
    "        for j in range(len(fill2[i])):\n",
    "            s1 = fill2[i][j].get('token_str')\n",
    "            s2 = original_token\n",
    "            s1, s2 = compareLength(s1, s2) #문자열의 길이를 비교해서 s1에 긴문자열, s2에 짧은 문자열을 넣는다.\n",
    "    \n",
    "            eudex_distance = eudexDistance(s1, s2)\n",
    "            soundex_distance = soundexDistance(s1, s2)        \n",
    "            M, edit_distance = getDistanceList(s1, s2)\n",
    "            fill2[i][j]['edit_distance'] = edit_distance\n",
    "            fill2[i][j]['eudex_distance'] = eudex_distance\n",
    "            fill2[i][j]['soundex_distance'] = soundex_distance\n",
    "    result4 = sorted(fill2[num], key = lambda x:(x['soundex_distance'],x['edit_distance'],-x['score']))\n",
    "    print('token   sequence                      soundex  eudex  edit_dist  score')   \n",
    "    for k in range(4):\n",
    "        print('%-5s'%result4[k].get('token_str'),end='\\t')\n",
    "        print('%-28s'%result4[k].get('sequence'),end='\\t')\n",
    "        print('%-7s'%result4[k].get('soundex_distance'),end='\\t')\n",
    "        print('%-7s'%result4[k].get('eudex_distance'),end='\\t')       \n",
    "        print('%-7s'%result4[k].get('edit_distance'),end='\\t')\n",
    "        print('%-5s'%result4[k].get('score'))\n",
    "    print()"
   ]
  },
  {
   "cell_type": "code",
   "execution_count": 378,
   "id": "320858cb",
   "metadata": {
    "scrolled": true
   },
   "outputs": [],
   "source": [
    "df1 = pd.DataFrame(data1, columns=['token_str','sequence','score','sound_distance'])\n",
    "df2 = pd.DataFrame(data2, columns=['token_str','sequence','sound_distance','edit_distance','score'])\n",
    "df3 = pd.DataFrame(data3, columns=['token_str','sequence','sound_distance','edit_distance','score'])"
   ]
  },
  {
   "cell_type": "code",
   "execution_count": 133,
   "id": "d5e57c55",
   "metadata": {},
   "outputs": [
    {
     "name": "stdout",
     "output_type": "stream",
     "text": [
      "  token_str                           sequence     score sound_distance\n",
      "0       can    can you find me my sit, please?  0.544499           None\n",
      "1      will   will you find me my sit, please?  0.198092           None\n",
      "2     could  could you find me my sit, please?  0.151333           None\n",
      "3     would  would you find me my sit, please?  0.087990           None\n",
      "4       you  could you find me my sit, please?  0.954546           None\n"
     ]
    }
   ],
   "source": [
    "print(df1.head())"
   ]
  },
  {
   "cell_type": "code",
   "execution_count": 134,
   "id": "2c997b85",
   "metadata": {},
   "outputs": [],
   "source": [
    "with pd.ExcelWriter('/home/tako/youngmi/errordetection/seat_result.xlsx') as writer:\n",
    "    df1.to_excel(writer, index=False, sheet_name='sheet1')\n",
    "    df2.to_excel(writer, index=False, sheet_name='sheet2')\n",
    "    df3.to_excel(writer, index=False, sheet_name='sheet3')"
   ]
  },
  {
   "cell_type": "code",
   "execution_count": null,
   "id": "ad89e385",
   "metadata": {},
   "outputs": [],
   "source": []
  }
 ],
 "metadata": {
  "kernelspec": {
   "display_name": "Python 3",
   "language": "python",
   "name": "python3"
  },
  "language_info": {
   "codemirror_mode": {
    "name": "ipython",
    "version": 3
   },
   "file_extension": ".py",
   "mimetype": "text/x-python",
   "name": "python",
   "nbconvert_exporter": "python",
   "pygments_lexer": "ipython3",
   "version": "3.8.8"
  }
 },
 "nbformat": 4,
 "nbformat_minor": 5
}
